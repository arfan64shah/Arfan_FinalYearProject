{
 "cells": [
  {
   "cell_type": "markdown",
   "id": "ff57c5ec",
   "metadata": {},
   "source": [
    "### Random Forest"
   ]
  },
  {
   "cell_type": "code",
   "execution_count": 1,
   "id": "fca79cc2",
   "metadata": {},
   "outputs": [
    {
     "name": "stdout",
     "output_type": "stream",
     "text": [
      "The accuracy is  0.24153188892279523\n"
     ]
    }
   ],
   "source": [
    "#import required libraries\n",
    "import numpy as np\n",
    "import pandas as pd\n",
    "import sklearn\n",
    "\n",
    "df = pd.read_csv('dataset1.csv')\n",
    "\n",
    "#categorizing dataset into dependent and independent variables\n",
    "x = df.iloc[:, :-1]\n",
    "y = df.iloc[:,-1]\n",
    "\n",
    "#split dataset into training and testing\n",
    "from sklearn.model_selection import train_test_split\n",
    "x_train, x_test, y_train, y_test = train_test_split(x, y, test_size = 0.2, random_state = 20)\n",
    "\n",
    "\n",
    "#import the classifier and predict\n",
    "from sklearn.ensemble import RandomForestClassifier\n",
    "\n",
    "R_classifier = RandomForestClassifier(n_estimators=10, random_state=42)\n",
    "\n",
    "R_classifier.fit(x_train, y_train)\n",
    "\n",
    "y_pred = R_classifier.predict(x_test)\n",
    "\n",
    "\n",
    "\n",
    "\n",
    "from sklearn.metrics import accuracy_score\n",
    "accuracy = accuracy_score(y_pred, y_test)\n",
    "print(\"The accuracy is \", accuracy)"
   ]
  },
  {
   "cell_type": "code",
   "execution_count": 2,
   "id": "bdd3b1d4",
   "metadata": {},
   "outputs": [
    {
     "data": {
      "text/plain": [
       "array([204, 203, 205, 206, 211, 212, 213, 210, 214, 198, 195, 181, 199,\n",
       "       215, 191, 197, 201, 209, 194, 185, 221, 239, 219, 151, 157, 171,\n",
       "       227, 234, 196, 207, 216,  71,  73,  75,  74, 174, 202, 175, 189,\n",
       "       228, 200, 224, 236, 226, 222, 225, 190, 186, 218, 193, 184, 223,\n",
       "       188, 208, 187, 231,  78,  64,  65,  66,  58,  80, 217,  89,  70,\n",
       "        84,  77,  57,  60,  47,  67,  59, 183, 182, 192, 237,  79,  61,\n",
       "        69,  52,  62,  68,  56, 169, 168,  55,  72, 232, 147, 179, 170,\n",
       "       160, 178, 177, 167, 164, 162, 153, 156, 163, 159, 229, 180, 141,\n",
       "       166, 155, 142, 143, 220, 173, 130, 148, 145, 235, 240, 161, 144,\n",
       "       135, 172, 150,  76, 123, 127, 139, 176, 154, 120, 121, 136, 149,\n",
       "        86,  92, 114, 134, 152, 126,  82,  63,  91,  81,  97,  51, 132,\n",
       "       110, 100,  83, 165,  85,  96, 238, 131, 108, 138,  88,  90,  53,\n",
       "        54, 146, 125, 122, 116, 104, 101, 137, 113,  93, 140, 128, 117,\n",
       "        98,  95, 230, 233,  37, 112, 115, 129, 243, 124,  87,  20, 111,\n",
       "       158, 102, 118,   4, 133, 119,  50,  24,  19,  14,  21,  11,  99,\n",
       "        49,  15,  22,  41,  13,  18,  43,  94,  23,  25,  30, 109, 106,\n",
       "       105, 103, 249, 107,  32,  26,  27,  36,  29,   8,   5, 247, 248,\n",
       "       246, 245,  33,  39,  17,  45,  44,  34,  40,  48,  38,  28,  42,\n",
       "        35,   7, 244, 250,   9,  46,   6, 253,   2,  16,  10,  12,  31,\n",
       "       242,   3,   1,   0, 251, 241, 252], dtype=int64)"
      ]
     },
     "execution_count": 2,
     "metadata": {},
     "output_type": "execute_result"
    }
   ],
   "source": [
    "y.unique()"
   ]
  },
  {
   "cell_type": "markdown",
   "id": "6590c0cf",
   "metadata": {},
   "source": [
    "### K-Neerest Neighbor"
   ]
  },
  {
   "cell_type": "code",
   "execution_count": 3,
   "id": "5a1cf69a",
   "metadata": {},
   "outputs": [
    {
     "name": "stdout",
     "output_type": "stream",
     "text": [
      "The accuracy is  0.2883735123588648\n"
     ]
    }
   ],
   "source": [
    "#apply KNN\n",
    "from sklearn.neighbors import KNeighborsClassifier\n",
    "\n",
    "neigh = KNeighborsClassifier(n_neighbors=3)\n",
    "\n",
    "neigh.fit(x_train, y_train)\n",
    "\n",
    "y_predict = neigh.predict(x_test)\n",
    "\n",
    "from sklearn.metrics import accuracy_score\n",
    "acc = accuracy_score(y_predict, y_test)\n",
    "\n",
    "\n",
    "print(\"The accuracy is \", acc)"
   ]
  },
  {
   "cell_type": "markdown",
   "id": "180f3576",
   "metadata": {},
   "source": [
    "### Decision Tree"
   ]
  },
  {
   "cell_type": "code",
   "execution_count": 4,
   "id": "2472327a",
   "metadata": {},
   "outputs": [
    {
     "name": "stdout",
     "output_type": "stream",
     "text": [
      "The accuracy is  0.2883735123588648\n"
     ]
    }
   ],
   "source": [
    "from sklearn import tree\n",
    "\n",
    "Treee = tree.DecisionTreeClassifier()\n",
    "\n",
    "\n",
    "Treee.fit(x_train, y_train)\n",
    "\n",
    "y_out = Treee.predict(x_test)\n",
    "\n",
    "from sklearn.metrics import accuracy_score\n",
    "ac = accuracy_score(y_predict, y_test)\n",
    "\n",
    "\n",
    "print(\"The accuracy is \", ac)"
   ]
  }
 ],
 "metadata": {
  "kernelspec": {
   "display_name": "Python 3 (ipykernel)",
   "language": "python",
   "name": "python3"
  },
  "language_info": {
   "codemirror_mode": {
    "name": "ipython",
    "version": 3
   },
   "file_extension": ".py",
   "mimetype": "text/x-python",
   "name": "python",
   "nbconvert_exporter": "python",
   "pygments_lexer": "ipython3",
   "version": "3.10.7"
  }
 },
 "nbformat": 4,
 "nbformat_minor": 5
}
