{
 "cells": [
  {
   "cell_type": "code",
   "execution_count": 2,
   "id": "09a52275",
   "metadata": {},
   "outputs": [],
   "source": [
    "# Python program to illustrate\n",
    "# simple thresholding type on an image\n",
    "\t\n",
    "# organizing imports\n",
    "import cv2\n",
    "import numpy as np\n",
    "\n",
    "# path to input image is specified and\n",
    "# image is loaded with imread command\n",
    "image1 = cv2.imread('pic1.jpg')\n",
    "\n",
    "# cv2.cvtColor is applied over the\n",
    "# image input with applied parameters\n",
    "# to convert the image in grayscale\n",
    "img = cv2.cvtColor(image1, cv2.COLOR_BGR2GRAY)\n",
    "\n",
    "# applying different thresholding\n",
    "# techniques on the input image\n",
    "# all pixels value above 120 will\n",
    "# be set to 255\n",
    "ret, thresh1 = cv2.threshold(img, 120, 255, cv2.THRESH_BINARY)\n",
    "ret, thresh2 = cv2.threshold(img, 120, 255, cv2.THRESH_BINARY_INV)\n",
    "ret, thresh3 = cv2.threshold(img, 120, 255, cv2.THRESH_TRUNC)\n",
    "ret, thresh4 = cv2.threshold(img, 120, 255, cv2.THRESH_TOZERO)\n",
    "ret, thresh5 = cv2.threshold(img, 120, 255, cv2.THRESH_TOZERO_INV)\n",
    "\n",
    "# the window showing output images\n",
    "# with the corresponding thresholding\n",
    "# techniques applied to the input images\n",
    "cv2.imshow('Binary Threshold', thresh1)\n",
    "cv2.imshow('Binary Threshold Inverted', thresh2)\n",
    "cv2.imshow('Truncated Threshold', thresh3)\n",
    "cv2.imshow('Set to 0', thresh4)\n",
    "cv2.imshow('Set to 0 Inverted', thresh5)\n",
    "\n",
    "# De-allocate any associated memory usage\n",
    "if cv2.waitKey(0) & 0xff == 27:\n",
    "\tcv2.destroyAllWindows()\n"
   ]
  },
  {
   "cell_type": "code",
   "execution_count": null,
   "id": "04a6a6cc",
   "metadata": {},
   "outputs": [],
   "source": []
  }
 ],
 "metadata": {
  "kernelspec": {
   "display_name": "Python 3 (ipykernel)",
   "language": "python",
   "name": "python3"
  },
  "language_info": {
   "codemirror_mode": {
    "name": "ipython",
    "version": 3
   },
   "file_extension": ".py",
   "mimetype": "text/x-python",
   "name": "python",
   "nbconvert_exporter": "python",
   "pygments_lexer": "ipython3",
   "version": "3.10.7"
  }
 },
 "nbformat": 4,
 "nbformat_minor": 5
}
