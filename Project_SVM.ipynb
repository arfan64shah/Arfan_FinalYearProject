{
 "cells": [
  {
   "cell_type": "code",
   "execution_count": 3,
   "id": "208c538c",
   "metadata": {},
   "outputs": [
    {
     "name": "stdout",
     "output_type": "stream",
     "text": [
      "The accuracy is  0.9259259259259259\n",
      "[[ 0  6]\n",
      " [ 0 75]]\n",
      "              precision    recall  f1-score   support\n",
      "\n",
      "           0       0.00      0.00      0.00         6\n",
      "           1       0.93      1.00      0.96        75\n",
      "\n",
      "    accuracy                           0.93        81\n",
      "   macro avg       0.46      0.50      0.48        81\n",
      "weighted avg       0.86      0.93      0.89        81\n",
      "\n"
     ]
    },
    {
     "name": "stderr",
     "output_type": "stream",
     "text": [
      "/home/uca/.local/lib/python3.10/site-packages/sklearn/utils/validation.py:1143: DataConversionWarning: A column-vector y was passed when a 1d array was expected. Please change the shape of y to (n_samples, ), for example using ravel().\n",
      "  y = column_or_1d(y, warn=True)\n",
      "/home/uca/.local/lib/python3.10/site-packages/sklearn/metrics/_classification.py:1344: UndefinedMetricWarning: Precision and F-score are ill-defined and being set to 0.0 in labels with no predicted samples. Use `zero_division` parameter to control this behavior.\n",
      "  _warn_prf(average, modifier, msg_start, len(result))\n",
      "/home/uca/.local/lib/python3.10/site-packages/sklearn/metrics/_classification.py:1344: UndefinedMetricWarning: Precision and F-score are ill-defined and being set to 0.0 in labels with no predicted samples. Use `zero_division` parameter to control this behavior.\n",
      "  _warn_prf(average, modifier, msg_start, len(result))\n",
      "/home/uca/.local/lib/python3.10/site-packages/sklearn/metrics/_classification.py:1344: UndefinedMetricWarning: Precision and F-score are ill-defined and being set to 0.0 in labels with no predicted samples. Use `zero_division` parameter to control this behavior.\n",
      "  _warn_prf(average, modifier, msg_start, len(result))\n"
     ]
    }
   ],
   "source": [
    "import pandas as pd\n",
    "#read the data\n",
    "Data = pd.read_csv('Output.csv')\n",
    "labelled = pd.read_csv('Labels.csv')\n",
    "#classify data into dependent and indepedent variables\n",
    "x = Data.iloc[:, :]\n",
    "y = labelled.iloc[:, :]\n",
    "\n",
    "#classify the data into training and testing\n",
    "from sklearn.model_selection import train_test_split\n",
    "x_train, x_test, y_train, y_test = train_test_split(x, y, test_size = 0.27, random_state = 0)\n",
    "\n",
    "#now predict using svm classifier\n",
    "from sklearn.svm import SVC\n",
    "SVC_classifier = SVC()\n",
    "\n",
    "#fit the model\n",
    "SVC_classifier.fit(x_train, y_train)\n",
    "pred = SVC_classifier.predict(x_test)\n",
    "\n",
    "#lets now find the accuracy\n",
    "from sklearn.metrics import accuracy_score\n",
    "print(\"The accuracy is \", accuracy_score(y_test, pred))\n",
    "\n",
    "#confusion matrix\n",
    "from sklearn.metrics import confusion_matrix\n",
    "print(confusion_matrix(y_test, pred))\n",
    "\n",
    "\n",
    "#classification report\n",
    "from sklearn.metrics import classification_report\n",
    "print(classification_report(y_test, pred))"
   ]
  },
  {
   "cell_type": "code",
   "execution_count": null,
   "id": "076ad770",
   "metadata": {},
   "outputs": [],
   "source": []
  }
 ],
 "metadata": {
  "kernelspec": {
   "display_name": "Python 3 (ipykernel)",
   "language": "python",
   "name": "python3"
  },
  "language_info": {
   "codemirror_mode": {
    "name": "ipython",
    "version": 3
   },
   "file_extension": ".py",
   "mimetype": "text/x-python",
   "name": "python",
   "nbconvert_exporter": "python",
   "pygments_lexer": "ipython3",
   "version": "3.10.6"
  }
 },
 "nbformat": 4,
 "nbformat_minor": 5
}
