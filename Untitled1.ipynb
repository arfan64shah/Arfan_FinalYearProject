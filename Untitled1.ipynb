{
 "cells": [
  {
   "cell_type": "code",
   "execution_count": 1,
   "id": "eaca19ba",
   "metadata": {},
   "outputs": [],
   "source": [
    "import os\n",
    "\n",
    "path = os.chdir(\"C:\\\\Users\\\\arfan.shah\\\\Desktop\\\\UCA_Undergrad\\\\Arfan_FinalYearProject\\\\data\\\\healthy\")\n",
    "\n",
    "i = 1\n",
    "\n",
    "for file in os.listdir(path):\n",
    "    \n",
    "    new_name = \"healthy{}.jpg\".format(i)\n",
    "    os.rename(file, new_name)\n",
    "    \n",
    "    i+=1"
   ]
  },
  {
   "cell_type": "code",
   "execution_count": 2,
   "id": "53430575",
   "metadata": {},
   "outputs": [],
   "source": [
    "import pandas as pd\n",
    "\n",
    "data = pd.read_excel('Labels50.ods', engine='odf')\n",
    "\n",
    "\n",
    "data.to_csv('Labels50.csv')"
   ]
  },
  {
   "cell_type": "code",
   "execution_count": null,
   "id": "23b6ea62",
   "metadata": {},
   "outputs": [],
   "source": []
  }
 ],
 "metadata": {
  "kernelspec": {
   "display_name": "Python 3 (ipykernel)",
   "language": "python",
   "name": "python3"
  },
  "language_info": {
   "codemirror_mode": {
    "name": "ipython",
    "version": 3
   },
   "file_extension": ".py",
   "mimetype": "text/x-python",
   "name": "python",
   "nbconvert_exporter": "python",
   "pygments_lexer": "ipython3",
   "version": "3.10.6"
  }
 },
 "nbformat": 4,
 "nbformat_minor": 5
}
