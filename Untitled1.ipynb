{
 "cells": [
  {
   "cell_type": "code",
   "execution_count": 8,
   "id": "eaca19ba",
   "metadata": {},
   "outputs": [],
   "source": [
    "import os\n",
    "\n",
    "path = os.chdir(\"C:\\\\Users\\\\arfan.shah\\\\Desktop\\\\UCA_Undergrad\\\\Arfan_FinalYearProject\\\\data\\\\leafmold\")\n",
    "\n",
    "i = 1\n",
    "\n",
    "for file in os.listdir(path):\n",
    "    \n",
    "    new_name = \"tomatoyellowleafcurlvirus{}.jpg\".format(i)\n",
    "    os.rename(file, new_name)\n",
    "    \n",
    "    i+=1"
   ]
  },
  {
   "cell_type": "code",
   "execution_count": null,
   "id": "53430575",
   "metadata": {},
   "outputs": [],
   "source": []
  }
 ],
 "metadata": {
  "kernelspec": {
   "display_name": "Python 3 (ipykernel)",
   "language": "python",
   "name": "python3"
  },
  "language_info": {
   "codemirror_mode": {
    "name": "ipython",
    "version": 3
   },
   "file_extension": ".py",
   "mimetype": "text/x-python",
   "name": "python",
   "nbconvert_exporter": "python",
   "pygments_lexer": "ipython3",
   "version": "3.10.7"
  }
 },
 "nbformat": 4,
 "nbformat_minor": 5
}
