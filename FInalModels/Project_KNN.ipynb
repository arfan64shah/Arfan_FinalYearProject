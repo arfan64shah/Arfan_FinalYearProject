{
 "cells": [
  {
   "cell_type": "code",
   "execution_count": 1,
   "id": "7d9744d1",
   "metadata": {},
   "outputs": [
    {
     "data": {
      "text/html": [
       "<div>\n",
       "<style scoped>\n",
       "    .dataframe tbody tr th:only-of-type {\n",
       "        vertical-align: middle;\n",
       "    }\n",
       "\n",
       "    .dataframe tbody tr th {\n",
       "        vertical-align: top;\n",
       "    }\n",
       "\n",
       "    .dataframe thead th {\n",
       "        text-align: right;\n",
       "    }\n",
       "</style>\n",
       "<table border=\"1\" class=\"dataframe\">\n",
       "  <thead>\n",
       "    <tr style=\"text-align: right;\">\n",
       "      <th></th>\n",
       "      <th>Mean_R</th>\n",
       "      <th>RMS_R</th>\n",
       "      <th>Median_R</th>\n",
       "      <th>Variance_R</th>\n",
       "      <th>Std_R</th>\n",
       "      <th>Skewness_R</th>\n",
       "      <th>Kurtosis_R</th>\n",
       "      <th>Contrast_R</th>\n",
       "      <th>Entropy_R</th>\n",
       "      <th>Energy_R</th>\n",
       "      <th>...</th>\n",
       "      <th>Skewness_B</th>\n",
       "      <th>Kurtosis_B</th>\n",
       "      <th>Contrast_B</th>\n",
       "      <th>Entropy_B</th>\n",
       "      <th>Energy_B</th>\n",
       "      <th>Homogeneity_B</th>\n",
       "      <th>Correlation_B</th>\n",
       "      <th>IDM_B</th>\n",
       "      <th>Smoothness_B</th>\n",
       "      <th>Label</th>\n",
       "    </tr>\n",
       "  </thead>\n",
       "  <tbody>\n",
       "    <tr>\n",
       "      <th>0</th>\n",
       "      <td>0.499272</td>\n",
       "      <td>0.530498</td>\n",
       "      <td>0.521569</td>\n",
       "      <td>0.032156</td>\n",
       "      <td>0.179320</td>\n",
       "      <td>-0.484763</td>\n",
       "      <td>-0.322512</td>\n",
       "      <td>7.417660</td>\n",
       "      <td>956.450061</td>\n",
       "      <td>0.010660</td>\n",
       "      <td>...</td>\n",
       "      <td>-0.407196</td>\n",
       "      <td>-0.696663</td>\n",
       "      <td>7.517717</td>\n",
       "      <td>946.369715</td>\n",
       "      <td>0.011527</td>\n",
       "      <td>0.075315</td>\n",
       "      <td>0.824158</td>\n",
       "      <td>0.001056</td>\n",
       "      <td>0.014440</td>\n",
       "      <td>0</td>\n",
       "    </tr>\n",
       "    <tr>\n",
       "      <th>1</th>\n",
       "      <td>0.450862</td>\n",
       "      <td>0.493341</td>\n",
       "      <td>0.482412</td>\n",
       "      <td>0.040108</td>\n",
       "      <td>0.200270</td>\n",
       "      <td>-0.025098</td>\n",
       "      <td>-1.355651</td>\n",
       "      <td>7.058108</td>\n",
       "      <td>360.687224</td>\n",
       "      <td>0.015127</td>\n",
       "      <td>...</td>\n",
       "      <td>0.163490</td>\n",
       "      <td>-1.162955</td>\n",
       "      <td>7.040838</td>\n",
       "      <td>359.933441</td>\n",
       "      <td>0.015140</td>\n",
       "      <td>0.094008</td>\n",
       "      <td>0.919477</td>\n",
       "      <td>0.002771</td>\n",
       "      <td>0.005492</td>\n",
       "      <td>0</td>\n",
       "    </tr>\n",
       "    <tr>\n",
       "      <th>2</th>\n",
       "      <td>0.490711</td>\n",
       "      <td>0.529387</td>\n",
       "      <td>0.552941</td>\n",
       "      <td>0.039453</td>\n",
       "      <td>0.198628</td>\n",
       "      <td>-0.561403</td>\n",
       "      <td>-0.793254</td>\n",
       "      <td>7.469795</td>\n",
       "      <td>604.175751</td>\n",
       "      <td>0.010409</td>\n",
       "      <td>...</td>\n",
       "      <td>-0.467573</td>\n",
       "      <td>-1.005314</td>\n",
       "      <td>7.497503</td>\n",
       "      <td>601.133165</td>\n",
       "      <td>0.010352</td>\n",
       "      <td>0.060593</td>\n",
       "      <td>0.896033</td>\n",
       "      <td>0.001661</td>\n",
       "      <td>0.009172</td>\n",
       "      <td>0</td>\n",
       "    </tr>\n",
       "    <tr>\n",
       "      <th>3</th>\n",
       "      <td>0.456121</td>\n",
       "      <td>0.516174</td>\n",
       "      <td>0.470588</td>\n",
       "      <td>0.058389</td>\n",
       "      <td>0.241638</td>\n",
       "      <td>-0.111255</td>\n",
       "      <td>-1.422784</td>\n",
       "      <td>7.603757</td>\n",
       "      <td>787.841958</td>\n",
       "      <td>0.011805</td>\n",
       "      <td>...</td>\n",
       "      <td>-0.061711</td>\n",
       "      <td>-1.496490</td>\n",
       "      <td>7.352011</td>\n",
       "      <td>770.710692</td>\n",
       "      <td>0.018813</td>\n",
       "      <td>0.113546</td>\n",
       "      <td>0.885132</td>\n",
       "      <td>0.001296</td>\n",
       "      <td>0.011759</td>\n",
       "      <td>0</td>\n",
       "    </tr>\n",
       "    <tr>\n",
       "      <th>4</th>\n",
       "      <td>0.666764</td>\n",
       "      <td>0.680847</td>\n",
       "      <td>0.701961</td>\n",
       "      <td>0.018978</td>\n",
       "      <td>0.137762</td>\n",
       "      <td>-0.641985</td>\n",
       "      <td>-0.495426</td>\n",
       "      <td>6.970347</td>\n",
       "      <td>147.902145</td>\n",
       "      <td>0.018236</td>\n",
       "      <td>...</td>\n",
       "      <td>-0.336407</td>\n",
       "      <td>-1.415606</td>\n",
       "      <td>7.252476</td>\n",
       "      <td>151.646691</td>\n",
       "      <td>0.017100</td>\n",
       "      <td>0.140658</td>\n",
       "      <td>0.974893</td>\n",
       "      <td>0.006552</td>\n",
       "      <td>0.002314</td>\n",
       "      <td>0</td>\n",
       "    </tr>\n",
       "  </tbody>\n",
       "</table>\n",
       "<p>5 rows × 43 columns</p>\n",
       "</div>"
      ],
      "text/plain": [
       "     Mean_R     RMS_R  Median_R  Variance_R     Std_R  Skewness_R  Kurtosis_R  \\\n",
       "0  0.499272  0.530498  0.521569    0.032156  0.179320   -0.484763   -0.322512   \n",
       "1  0.450862  0.493341  0.482412    0.040108  0.200270   -0.025098   -1.355651   \n",
       "2  0.490711  0.529387  0.552941    0.039453  0.198628   -0.561403   -0.793254   \n",
       "3  0.456121  0.516174  0.470588    0.058389  0.241638   -0.111255   -1.422784   \n",
       "4  0.666764  0.680847  0.701961    0.018978  0.137762   -0.641985   -0.495426   \n",
       "\n",
       "   Contrast_R   Entropy_R  Energy_R  ...  Skewness_B  Kurtosis_B  Contrast_B  \\\n",
       "0    7.417660  956.450061  0.010660  ...   -0.407196   -0.696663    7.517717   \n",
       "1    7.058108  360.687224  0.015127  ...    0.163490   -1.162955    7.040838   \n",
       "2    7.469795  604.175751  0.010409  ...   -0.467573   -1.005314    7.497503   \n",
       "3    7.603757  787.841958  0.011805  ...   -0.061711   -1.496490    7.352011   \n",
       "4    6.970347  147.902145  0.018236  ...   -0.336407   -1.415606    7.252476   \n",
       "\n",
       "    Entropy_B  Energy_B  Homogeneity_B  Correlation_B     IDM_B  Smoothness_B  \\\n",
       "0  946.369715  0.011527       0.075315       0.824158  0.001056      0.014440   \n",
       "1  359.933441  0.015140       0.094008       0.919477  0.002771      0.005492   \n",
       "2  601.133165  0.010352       0.060593       0.896033  0.001661      0.009172   \n",
       "3  770.710692  0.018813       0.113546       0.885132  0.001296      0.011759   \n",
       "4  151.646691  0.017100       0.140658       0.974893  0.006552      0.002314   \n",
       "\n",
       "   Label  \n",
       "0      0  \n",
       "1      0  \n",
       "2      0  \n",
       "3      0  \n",
       "4      0  \n",
       "\n",
       "[5 rows x 43 columns]"
      ]
     },
     "execution_count": 1,
     "metadata": {},
     "output_type": "execute_result"
    }
   ],
   "source": [
    "#import the basic libraries\n",
    "import pandas as pd\n",
    "import numpy as np\n",
    "\n",
    "#read the dataset\n",
    "dataset = pd.read_csv('Final.csv')\n",
    "dataset.head()"
   ]
  },
  {
   "cell_type": "code",
   "execution_count": 2,
   "id": "4b27194e",
   "metadata": {},
   "outputs": [
    {
     "data": {
      "text/plain": [
       "1    620\n",
       "0    430\n",
       "Name: Label, dtype: int64"
      ]
     },
     "execution_count": 2,
     "metadata": {},
     "output_type": "execute_result"
    }
   ],
   "source": [
    "#now find the number of 1s and 0s\n",
    "dataset['Label'].value_counts()"
   ]
  },
  {
   "cell_type": "code",
   "execution_count": 3,
   "id": "1b877333",
   "metadata": {},
   "outputs": [
    {
     "data": {
      "text/plain": [
       "Mean_R           0\n",
       "RMS_R            0\n",
       "Median_R         0\n",
       "Variance_R       0\n",
       "Std_R            0\n",
       "Skewness_R       0\n",
       "Kurtosis_R       0\n",
       "Contrast_R       0\n",
       "Entropy_R        0\n",
       "Energy_R         0\n",
       "Homogeneity_R    0\n",
       "Correlation_R    0\n",
       "IDM_R            0\n",
       "Smoothness_R     0\n",
       "Mean_G           0\n",
       "RMS_G            0\n",
       "Median_G         0\n",
       "Variance_G       0\n",
       "Std_G            0\n",
       "Skewness_G       0\n",
       "Kurtosis_G       0\n",
       "Contrast_G       0\n",
       "Entropy_G        0\n",
       "Energy_G         0\n",
       "Homogeneity_G    0\n",
       "Correlation_G    0\n",
       "IDM_G            0\n",
       "Smoothness_G     0\n",
       "Mean_B           0\n",
       "RMS_B            0\n",
       "Median_B         0\n",
       "Variance_B       0\n",
       "Std_B            0\n",
       "Skewness_B       0\n",
       "Kurtosis_B       0\n",
       "Contrast_B       0\n",
       "Entropy_B        0\n",
       "Energy_B         0\n",
       "Homogeneity_B    0\n",
       "Correlation_B    0\n",
       "IDM_B            0\n",
       "Smoothness_B     0\n",
       "Label            0\n",
       "dtype: int64"
      ]
     },
     "execution_count": 3,
     "metadata": {},
     "output_type": "execute_result"
    }
   ],
   "source": [
    "#check for missing values\n",
    "dataset.isnull().sum()"
   ]
  },
  {
   "cell_type": "code",
   "execution_count": 4,
   "id": "d21ccbc0",
   "metadata": {},
   "outputs": [
    {
     "data": {
      "text/plain": [
       "1050"
      ]
     },
     "execution_count": 4,
     "metadata": {},
     "output_type": "execute_result"
    }
   ],
   "source": [
    "#length of dataset\n",
    "len(dataset)"
   ]
  },
  {
   "cell_type": "code",
   "execution_count": 5,
   "id": "7f8503da",
   "metadata": {},
   "outputs": [
    {
     "name": "stdout",
     "output_type": "stream",
     "text": [
      "<class 'pandas.core.frame.DataFrame'>\n",
      "RangeIndex: 1050 entries, 0 to 1049\n",
      "Data columns (total 43 columns):\n",
      " #   Column         Non-Null Count  Dtype  \n",
      "---  ------         --------------  -----  \n",
      " 0   Mean_R         1050 non-null   float64\n",
      " 1   RMS_R          1050 non-null   float64\n",
      " 2   Median_R       1050 non-null   float64\n",
      " 3   Variance_R     1050 non-null   float64\n",
      " 4   Std_R          1050 non-null   float64\n",
      " 5   Skewness_R     1050 non-null   float64\n",
      " 6   Kurtosis_R     1050 non-null   float64\n",
      " 7   Contrast_R     1050 non-null   float64\n",
      " 8   Entropy_R      1050 non-null   float64\n",
      " 9   Energy_R       1050 non-null   float64\n",
      " 10  Homogeneity_R  1050 non-null   float64\n",
      " 11  Correlation_R  1050 non-null   float64\n",
      " 12  IDM_R          1050 non-null   float64\n",
      " 13  Smoothness_R   1050 non-null   float64\n",
      " 14  Mean_G         1050 non-null   float64\n",
      " 15  RMS_G          1050 non-null   float64\n",
      " 16  Median_G       1050 non-null   float64\n",
      " 17  Variance_G     1050 non-null   float64\n",
      " 18  Std_G          1050 non-null   float64\n",
      " 19  Skewness_G     1050 non-null   float64\n",
      " 20  Kurtosis_G     1050 non-null   float64\n",
      " 21  Contrast_G     1050 non-null   float64\n",
      " 22  Entropy_G      1050 non-null   float64\n",
      " 23  Energy_G       1050 non-null   float64\n",
      " 24  Homogeneity_G  1050 non-null   float64\n",
      " 25  Correlation_G  1050 non-null   float64\n",
      " 26  IDM_G          1050 non-null   float64\n",
      " 27  Smoothness_G   1050 non-null   float64\n",
      " 28  Mean_B         1050 non-null   float64\n",
      " 29  RMS_B          1050 non-null   float64\n",
      " 30  Median_B       1050 non-null   float64\n",
      " 31  Variance_B     1050 non-null   float64\n",
      " 32  Std_B          1050 non-null   float64\n",
      " 33  Skewness_B     1050 non-null   float64\n",
      " 34  Kurtosis_B     1050 non-null   float64\n",
      " 35  Contrast_B     1050 non-null   float64\n",
      " 36  Entropy_B      1050 non-null   float64\n",
      " 37  Energy_B       1050 non-null   float64\n",
      " 38  Homogeneity_B  1050 non-null   float64\n",
      " 39  Correlation_B  1050 non-null   float64\n",
      " 40  IDM_B          1050 non-null   float64\n",
      " 41  Smoothness_B   1050 non-null   float64\n",
      " 42  Label          1050 non-null   int64  \n",
      "dtypes: float64(42), int64(1)\n",
      "memory usage: 352.9 KB\n"
     ]
    }
   ],
   "source": [
    "#find descriptive statistics\n",
    "dataset.info()"
   ]
  },
  {
   "cell_type": "code",
   "execution_count": 6,
   "id": "6766ee17",
   "metadata": {},
   "outputs": [],
   "source": [
    "#now classify dataset into dependent and independent parts\n",
    "x = dataset.iloc[:, : -1]\n",
    "y = dataset.iloc[:, -1]\n"
   ]
  },
  {
   "cell_type": "code",
   "execution_count": 7,
   "id": "02122a48",
   "metadata": {},
   "outputs": [
    {
     "name": "stdout",
     "output_type": "stream",
     "text": [
      "The shape of x (1050, 42)\n",
      "The shape of y (1050,)\n"
     ]
    }
   ],
   "source": [
    "#check dimentions of x and y\n",
    "print(\"The shape of x\", x.shape)\n",
    "print(\"The shape of y\", y.shape)"
   ]
  },
  {
   "cell_type": "code",
   "execution_count": 8,
   "id": "a2a242d3",
   "metadata": {},
   "outputs": [
    {
     "name": "stdout",
     "output_type": "stream",
     "text": [
      "The accuracy for main data is  0.9619047619047619\n",
      "[[46  4]\n",
      " [ 0 55]]\n",
      "              precision    recall  f1-score   support\n",
      "\n",
      "           0       1.00      0.92      0.96        50\n",
      "           1       0.93      1.00      0.96        55\n",
      "\n",
      "    accuracy                           0.96       105\n",
      "   macro avg       0.97      0.96      0.96       105\n",
      "weighted avg       0.96      0.96      0.96       105\n",
      "\n"
     ]
    }
   ],
   "source": [
    "#scale data in x\n",
    "from sklearn.preprocessing import Normalizer\n",
    "# sc = Normalizer()\n",
    "# x = sc.fit(x).transform(x)\n",
    "\n",
    "\n",
    "#split x and y into training and testing\n",
    "#import train_test_split from sklearn\n",
    "from sklearn.model_selection import train_test_split\n",
    "\n",
    "x_train, x_test, y_train, y_test = train_test_split(x, y, test_size = 0.1, random_state = 0)\n",
    "\n",
    "#now scale the model using normal scaling method\n",
    "# sc = Normalizer()\n",
    "# x_train = sc.fit_transform(x_train)\n",
    "# x_test = sc.transform(x_test)\n",
    "\n",
    "#import the model\n",
    "from sklearn.neighbors import KNeighborsClassifier\n",
    "knn = KNeighborsClassifier(n_neighbors = 1)\n",
    "\n",
    "#fit the model\n",
    "knn.fit(x_train, y_train)\n",
    "\n",
    "#predict output\n",
    "pred = knn.predict(x_test)\n",
    "\n",
    "\n",
    "#now lets measure the accuracy and confussion matrix\n",
    "#lets now find the accuracy\n",
    "from sklearn.metrics import accuracy_score\n",
    "print(\"The accuracy for main data is \", accuracy_score(y_test, pred))\n",
    "\n",
    "#confusion matrix\n",
    "from sklearn.metrics import confusion_matrix\n",
    "cm = confusion_matrix(pred, y_test)\n",
    "print(cm)\n",
    "\n",
    "#classification report\n",
    "from sklearn.metrics import classification_report\n",
    "print(classification_report(pred, y_test))"
   ]
  },
  {
   "cell_type": "code",
   "execution_count": 11,
   "id": "d38345bd",
   "metadata": {},
   "outputs": [
    {
     "data": {
      "text/plain": [
       "<Axes: >"
      ]
     },
     "execution_count": 11,
     "metadata": {},
     "output_type": "execute_result"
    },
    {
     "data": {
      "image/png": "[encoded data removed]",
      "text/plain": [
       "<Figure size 640x480 with 2 Axes>"
      ]
     },
     "metadata": {},
     "output_type": "display_data"
    }
   ],
   "source": [
    "import seaborn as sb\n",
    "sb.heatmap(confusion_matrix(pred, y_test), annot=True)"
   ]
  },
  {
   "cell_type": "code",
   "execution_count": 12,
   "id": "bd402b5f",
   "metadata": {},
   "outputs": [
    {
     "data": {
      "text/plain": [
       "[Text(0, 0.5, 'Health'), Text(0, 1.5, 'Unhealthy')]"
      ]
     },
     "execution_count": 12,
     "metadata": {},
     "output_type": "execute_result"
    },
    {
     "data": {
      "image/png": "[encoded data removed]",
      "text/plain": [
       "<Figure size 640x480 with 2 Axes>"
      ]
     },
     "metadata": {},
     "output_type": "display_data"
    }
   ],
   "source": [
    "#now confusion matrix with labels\n",
    "import matplotlib.pyplot as plt\n",
    "\n",
    "ax= plt.subplot()\n",
    "sb.heatmap(cm, annot=True, fmt='g', ax=ax);  \n",
    "\n",
    "# labels, title and ticks\n",
    "ax.set_title('Confusion Matrix')\n",
    "ax.set_xlabel('Predicted Values');ax.set_ylabel('Actual Values')\n",
    "ax.xaxis.set_ticklabels(['Healthy', 'Unhealth']); ax.yaxis.set_ticklabels(['Health', 'Unhealthy'])"
   ]
  },
  {
   "cell_type": "code",
   "execution_count": 99,
   "id": "5e513d4d",
   "metadata": {},
   "outputs": [
    {
     "name": "stdout",
     "output_type": "stream",
     "text": [
      "Minimum error:- 0.051094890510948905 at K = 0\n"
     ]
    },
    {
     "data": {
      "image/png": "[encoded data removed]",
      "text/plain": [
       "<Figure size 1000x600 with 1 Axes>"
      ]
     },
     "metadata": {},
     "output_type": "display_data"
    }
   ],
   "source": [
    "#in the code below we are trying to calculate the best number of neighbors to have good results\n",
    "import matplotlib.pyplot as plt\n",
    "error_rate = []\n",
    "for i in range(1,10):\n",
    " knn = KNeighborsClassifier(n_neighbors=i)\n",
    " knn.fit(x_train,y_train)\n",
    " pred_i = knn.predict(x_test)\n",
    " error_rate.append(np.mean(pred_i != y_test))\n",
    "\n",
    "plt.figure(figsize=(10,6))\n",
    "plt.plot(range(1,10),error_rate,color='blue', linestyle='dashed', \n",
    "         marker='o',markerfacecolor='red', markersize=10)\n",
    "plt.title('Error Rate vs. K Value')\n",
    "plt.xlabel('K')\n",
    "plt.ylabel('Error Rate')\n",
    "print(\"Minimum error:-\",min(error_rate),\"at K =\",error_rate.index(min(error_rate)))"
   ]
  },
  {
   "cell_type": "code",
   "execution_count": null,
   "id": "1b1ba919",
   "metadata": {},
   "outputs": [],
   "source": []
  }
 ],
 "metadata": {
  "kernelspec": {
   "display_name": "Python 3 (ipykernel)",
   "language": "python",
   "name": "python3"
  },
  "language_info": {
   "codemirror_mode": {
    "name": "ipython",
    "version": 3
   },
   "file_extension": ".py",
   "mimetype": "text/x-python",
   "name": "python",
   "nbconvert_exporter": "python",
   "pygments_lexer": "ipython3",
   "version": "3.10.6"
  }
 },
 "nbformat": 4,
 "nbformat_minor": 5
}
