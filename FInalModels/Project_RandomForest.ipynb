{
 "cells": [
  {
   "cell_type": "code",
   "execution_count": 20,
   "id": "b1deb98a",
   "metadata": {},
   "outputs": [
    {
     "data": {
      "text/html": [
       "<div>\n",
       "<style scoped>\n",
       "    .dataframe tbody tr th:only-of-type {\n",
       "        vertical-align: middle;\n",
       "    }\n",
       "\n",
       "    .dataframe tbody tr th {\n",
       "        vertical-align: top;\n",
       "    }\n",
       "\n",
       "    .dataframe thead th {\n",
       "        text-align: right;\n",
       "    }\n",
       "</style>\n",
       "<table border=\"1\" class=\"dataframe\">\n",
       "  <thead>\n",
       "    <tr style=\"text-align: right;\">\n",
       "      <th></th>\n",
       "      <th>Mean_R</th>\n",
       "      <th>RMS_R</th>\n",
       "      <th>Median_R</th>\n",
       "      <th>Variance_R</th>\n",
       "      <th>Std_R</th>\n",
       "      <th>Skewness_R</th>\n",
       "      <th>Kurtosis_R</th>\n",
       "      <th>Contrast_R</th>\n",
       "      <th>Entropy_R</th>\n",
       "      <th>Energy_R</th>\n",
       "      <th>...</th>\n",
       "      <th>Skewness_B</th>\n",
       "      <th>Kurtosis_B</th>\n",
       "      <th>Contrast_B</th>\n",
       "      <th>Entropy_B</th>\n",
       "      <th>Energy_B</th>\n",
       "      <th>Homogeneity_B</th>\n",
       "      <th>Correlation_B</th>\n",
       "      <th>IDM_B</th>\n",
       "      <th>Smoothness_B</th>\n",
       "      <th>Label</th>\n",
       "    </tr>\n",
       "  </thead>\n",
       "  <tbody>\n",
       "    <tr>\n",
       "      <th>0</th>\n",
       "      <td>0.499272</td>\n",
       "      <td>0.530498</td>\n",
       "      <td>0.521569</td>\n",
       "      <td>0.032156</td>\n",
       "      <td>0.179320</td>\n",
       "      <td>-0.484763</td>\n",
       "      <td>-0.322512</td>\n",
       "      <td>7.417660</td>\n",
       "      <td>956.450061</td>\n",
       "      <td>0.010660</td>\n",
       "      <td>...</td>\n",
       "      <td>-0.407196</td>\n",
       "      <td>-0.696663</td>\n",
       "      <td>7.517717</td>\n",
       "      <td>946.369715</td>\n",
       "      <td>0.011527</td>\n",
       "      <td>0.075315</td>\n",
       "      <td>0.824158</td>\n",
       "      <td>0.001056</td>\n",
       "      <td>0.014440</td>\n",
       "      <td>0</td>\n",
       "    </tr>\n",
       "    <tr>\n",
       "      <th>1</th>\n",
       "      <td>0.450862</td>\n",
       "      <td>0.493341</td>\n",
       "      <td>0.482412</td>\n",
       "      <td>0.040108</td>\n",
       "      <td>0.200270</td>\n",
       "      <td>-0.025098</td>\n",
       "      <td>-1.355651</td>\n",
       "      <td>7.058108</td>\n",
       "      <td>360.687224</td>\n",
       "      <td>0.015127</td>\n",
       "      <td>...</td>\n",
       "      <td>0.163490</td>\n",
       "      <td>-1.162955</td>\n",
       "      <td>7.040838</td>\n",
       "      <td>359.933441</td>\n",
       "      <td>0.015140</td>\n",
       "      <td>0.094008</td>\n",
       "      <td>0.919477</td>\n",
       "      <td>0.002771</td>\n",
       "      <td>0.005492</td>\n",
       "      <td>0</td>\n",
       "    </tr>\n",
       "    <tr>\n",
       "      <th>2</th>\n",
       "      <td>0.490711</td>\n",
       "      <td>0.529387</td>\n",
       "      <td>0.552941</td>\n",
       "      <td>0.039453</td>\n",
       "      <td>0.198628</td>\n",
       "      <td>-0.561403</td>\n",
       "      <td>-0.793254</td>\n",
       "      <td>7.469795</td>\n",
       "      <td>604.175751</td>\n",
       "      <td>0.010409</td>\n",
       "      <td>...</td>\n",
       "      <td>-0.467573</td>\n",
       "      <td>-1.005314</td>\n",
       "      <td>7.497503</td>\n",
       "      <td>601.133165</td>\n",
       "      <td>0.010352</td>\n",
       "      <td>0.060593</td>\n",
       "      <td>0.896033</td>\n",
       "      <td>0.001661</td>\n",
       "      <td>0.009172</td>\n",
       "      <td>0</td>\n",
       "    </tr>\n",
       "    <tr>\n",
       "      <th>3</th>\n",
       "      <td>0.456121</td>\n",
       "      <td>0.516174</td>\n",
       "      <td>0.470588</td>\n",
       "      <td>0.058389</td>\n",
       "      <td>0.241638</td>\n",
       "      <td>-0.111255</td>\n",
       "      <td>-1.422784</td>\n",
       "      <td>7.603757</td>\n",
       "      <td>787.841958</td>\n",
       "      <td>0.011805</td>\n",
       "      <td>...</td>\n",
       "      <td>-0.061711</td>\n",
       "      <td>-1.496490</td>\n",
       "      <td>7.352011</td>\n",
       "      <td>770.710692</td>\n",
       "      <td>0.018813</td>\n",
       "      <td>0.113546</td>\n",
       "      <td>0.885132</td>\n",
       "      <td>0.001296</td>\n",
       "      <td>0.011759</td>\n",
       "      <td>0</td>\n",
       "    </tr>\n",
       "    <tr>\n",
       "      <th>4</th>\n",
       "      <td>0.666764</td>\n",
       "      <td>0.680847</td>\n",
       "      <td>0.701961</td>\n",
       "      <td>0.018978</td>\n",
       "      <td>0.137762</td>\n",
       "      <td>-0.641985</td>\n",
       "      <td>-0.495426</td>\n",
       "      <td>6.970347</td>\n",
       "      <td>147.902145</td>\n",
       "      <td>0.018236</td>\n",
       "      <td>...</td>\n",
       "      <td>-0.336407</td>\n",
       "      <td>-1.415606</td>\n",
       "      <td>7.252476</td>\n",
       "      <td>151.646691</td>\n",
       "      <td>0.017100</td>\n",
       "      <td>0.140658</td>\n",
       "      <td>0.974893</td>\n",
       "      <td>0.006552</td>\n",
       "      <td>0.002314</td>\n",
       "      <td>0</td>\n",
       "    </tr>\n",
       "  </tbody>\n",
       "</table>\n",
       "<p>5 rows × 43 columns</p>\n",
       "</div>"
      ],
      "text/plain": [
       "     Mean_R     RMS_R  Median_R  Variance_R     Std_R  Skewness_R  Kurtosis_R  \\\n",
       "0  0.499272  0.530498  0.521569    0.032156  0.179320   -0.484763   -0.322512   \n",
       "1  0.450862  0.493341  0.482412    0.040108  0.200270   -0.025098   -1.355651   \n",
       "2  0.490711  0.529387  0.552941    0.039453  0.198628   -0.561403   -0.793254   \n",
       "3  0.456121  0.516174  0.470588    0.058389  0.241638   -0.111255   -1.422784   \n",
       "4  0.666764  0.680847  0.701961    0.018978  0.137762   -0.641985   -0.495426   \n",
       "\n",
       "   Contrast_R   Entropy_R  Energy_R  ...  Skewness_B  Kurtosis_B  Contrast_B  \\\n",
       "0    7.417660  956.450061  0.010660  ...   -0.407196   -0.696663    7.517717   \n",
       "1    7.058108  360.687224  0.015127  ...    0.163490   -1.162955    7.040838   \n",
       "2    7.469795  604.175751  0.010409  ...   -0.467573   -1.005314    7.497503   \n",
       "3    7.603757  787.841958  0.011805  ...   -0.061711   -1.496490    7.352011   \n",
       "4    6.970347  147.902145  0.018236  ...   -0.336407   -1.415606    7.252476   \n",
       "\n",
       "    Entropy_B  Energy_B  Homogeneity_B  Correlation_B     IDM_B  Smoothness_B  \\\n",
       "0  946.369715  0.011527       0.075315       0.824158  0.001056      0.014440   \n",
       "1  359.933441  0.015140       0.094008       0.919477  0.002771      0.005492   \n",
       "2  601.133165  0.010352       0.060593       0.896033  0.001661      0.009172   \n",
       "3  770.710692  0.018813       0.113546       0.885132  0.001296      0.011759   \n",
       "4  151.646691  0.017100       0.140658       0.974893  0.006552      0.002314   \n",
       "\n",
       "   Label  \n",
       "0      0  \n",
       "1      0  \n",
       "2      0  \n",
       "3      0  \n",
       "4      0  \n",
       "\n",
       "[5 rows x 43 columns]"
      ]
     },
     "execution_count": 20,
     "metadata": {},
     "output_type": "execute_result"
    }
   ],
   "source": [
    "import pandas as pd\n",
    "#read the data\n",
    "dataset = pd.read_csv('Final.csv')\n",
    "dataset.head()"
   ]
  },
  {
   "cell_type": "code",
   "execution_count": 21,
   "id": "512eb319",
   "metadata": {},
   "outputs": [
    {
     "data": {
      "text/plain": [
       "1    620\n",
       "0    430\n",
       "Name: Label, dtype: int64"
      ]
     },
     "execution_count": 21,
     "metadata": {},
     "output_type": "execute_result"
    }
   ],
   "source": [
    "#find the number of uniques values in Label\n",
    "dataset['Label'].value_counts()"
   ]
  },
  {
   "cell_type": "code",
   "execution_count": 22,
   "id": "2c186566",
   "metadata": {},
   "outputs": [],
   "source": [
    "#classify data into dependent and indepedent variables\n",
    "x = dataset.iloc[:, : -1]\n",
    "y = dataset.iloc[:, -1]"
   ]
  },
  {
   "cell_type": "code",
   "execution_count": 23,
   "id": "761683a8",
   "metadata": {},
   "outputs": [
    {
     "name": "stdout",
     "output_type": "stream",
     "text": [
      "The accuracy for main data is  0.9682539682539683\n",
      "[[125   6]\n",
      " [  4 180]]\n",
      "              precision    recall  f1-score   support\n",
      "\n",
      "           0       0.97      0.95      0.96       131\n",
      "           1       0.97      0.98      0.97       184\n",
      "\n",
      "    accuracy                           0.97       315\n",
      "   macro avg       0.97      0.97      0.97       315\n",
      "weighted avg       0.97      0.97      0.97       315\n",
      "\n"
     ]
    }
   ],
   "source": [
    "\n",
    "#classify the data into training and testing\n",
    "from sklearn.model_selection import train_test_split\n",
    "x_train, x_test, y_train, y_test = train_test_split(x, y, test_size = 0.3, random_state = 0)\n",
    "\n",
    "\n",
    "#scale using normalization\n",
    "from sklearn.preprocessing import Normalizer, StandardScaler\n",
    "sc = StandardScaler()\n",
    "x_train = sc.fit_transform(x_train)\n",
    "x_test = sc.transform(x_test)\n",
    "\n",
    "\n",
    "\n",
    "#now predict using svm classifier\n",
    "from sklearn.ensemble import RandomForestClassifier\n",
    "RF_classifier = RandomForestClassifier()\n",
    "\n",
    "#fit the model\n",
    "RF_classifier.fit(x_train, y_train)\n",
    "pred = RF_classifier.predict(x_test)\n",
    "\n",
    "#lets now find the accuracy\n",
    "from sklearn.metrics import accuracy_score\n",
    "print(\"The accuracy for main data is \", accuracy_score(pred, y_test))\n",
    "\n",
    "#confusion matrix\n",
    "from sklearn.metrics import confusion_matrix\n",
    "cm = confusion_matrix(pred, y_test)\n",
    "print(cm)\n",
    "\n",
    "#classification report\n",
    "from sklearn.metrics import classification_report\n",
    "print(classification_report(pred, y_test))"
   ]
  },
  {
   "cell_type": "code",
   "execution_count": 24,
   "id": "a01df475",
   "metadata": {},
   "outputs": [
    {
     "data": {
      "text/plain": [
       "<Axes: >"
      ]
     },
     "execution_count": 24,
     "metadata": {},
     "output_type": "execute_result"
    },
    {
     "data": {
      "image/png": "[encoded data removed]",
      "text/plain": [
       "<Figure size 640x480 with 2 Axes>"
      ]
     },
     "metadata": {},
     "output_type": "display_data"
    }
   ],
   "source": [
    "from sklearn.metrics import confusion_matrix\n",
    "import seaborn as sb\n",
    "\n",
    "cm = confusion_matrix(y_test, pred)\n",
    "sb.heatmap(cm, annot = True)"
   ]
  },
  {
   "cell_type": "code",
   "execution_count": 25,
   "id": "5c13591b",
   "metadata": {},
   "outputs": [
    {
     "data": {
      "text/plain": [
       "[Text(0, 0.5, 'Health'), Text(0, 1.5, 'Unhealthy')]"
      ]
     },
     "execution_count": 25,
     "metadata": {},
     "output_type": "execute_result"
    },
    {
     "data": {
      "image/png": "[encoded data removed]",
      "text/plain": [
       "<Figure size 640x480 with 2 Axes>"
      ]
     },
     "metadata": {},
     "output_type": "display_data"
    }
   ],
   "source": [
    "#now confusion matrix with labels\n",
    "import matplotlib.pyplot as plt\n",
    "\n",
    "ax= plt.subplot()\n",
    "sb.heatmap(cm, annot=True, fmt='g', ax=ax);  \n",
    "\n",
    "# labels, title and ticks\n",
    "ax.set_title('Confusion Matrix')\n",
    "ax.set_xlabel('Predicted Values');ax.set_ylabel('Actual Values')\n",
    "ax.xaxis.set_ticklabels(['Healthy', 'Unhealth']); ax.yaxis.set_ticklabels(['Health', 'Unhealthy'])"
   ]
  },
  {
   "cell_type": "code",
   "execution_count": null,
   "id": "4f02d70c",
   "metadata": {},
   "outputs": [],
   "source": []
  }
 ],
 "metadata": {
  "kernelspec": {
   "display_name": "Python 3 (ipykernel)",
   "language": "python",
   "name": "python3"
  },
  "language_info": {
   "codemirror_mode": {
    "name": "ipython",
    "version": 3
   },
   "file_extension": ".py",
   "mimetype": "text/x-python",
   "name": "python",
   "nbconvert_exporter": "python",
   "pygments_lexer": "ipython3",
   "version": "3.10.6"
  }
 },
 "nbformat": 4,
 "nbformat_minor": 5
}
