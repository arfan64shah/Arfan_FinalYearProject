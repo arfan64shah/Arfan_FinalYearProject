{
 "cells": [
  {
   "cell_type": "code",
   "execution_count": 7,
   "id": "7e3aa04b",
   "metadata": {},
   "outputs": [
    {
     "name": "stderr",
     "output_type": "stream",
     "text": [
      "/tmp/ipykernel_27065/1524696066.py:9: FutureWarning: save is not part of the public API, usage can give unexpected results and will be removed in a future version\n",
      "  GFG.save()\n"
     ]
    }
   ],
   "source": [
    "import pandas as pd\n",
    "# Reading the csv file\n",
    "df_new = pd.read_csv('FinalOutput.csv')\n",
    " \n",
    "# saving xlsx file\n",
    "GFG = pd.ExcelWriter('FinalOutput.xlsx')\n",
    "df_new.to_excel(GFG, index=False)\n",
    " \n",
    "GFG.save()"
   ]
  },
  {
   "cell_type": "code",
   "execution_count": 9,
   "id": "5caa08eb",
   "metadata": {},
   "outputs": [],
   "source": [
    "read_file = pd.read_excel (\"Final.xlsx\")\n",
    "  \n",
    "# Write the dataframe object\n",
    "# into csv file\n",
    "read_file.to_csv (\"Final.csv\", \n",
    "                  index = None,\n",
    "                  header=True)"
   ]
  },
  {
   "cell_type": "code",
   "execution_count": null,
   "id": "8a2f8582",
   "metadata": {},
   "outputs": [],
   "source": []
  }
 ],
 "metadata": {
  "kernelspec": {
   "display_name": "Python 3 (ipykernel)",
   "language": "python",
   "name": "python3"
  },
  "language_info": {
   "codemirror_mode": {
    "name": "ipython",
    "version": 3
   },
   "file_extension": ".py",
   "mimetype": "text/x-python",
   "name": "python",
   "nbconvert_exporter": "python",
   "pygments_lexer": "ipython3",
   "version": "3.10.6"
  }
 },
 "nbformat": 4,
 "nbformat_minor": 5
}
