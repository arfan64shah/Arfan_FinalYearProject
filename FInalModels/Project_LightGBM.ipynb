{
 "cells": [
  {
   "cell_type": "code",
   "execution_count": 92,
   "id": "85794b6a",
   "metadata": {},
   "outputs": [
    {
     "data": {
      "text/html": [
       "<div>\n",
       "<style scoped>\n",
       "    .dataframe tbody tr th:only-of-type {\n",
       "        vertical-align: middle;\n",
       "    }\n",
       "\n",
       "    .dataframe tbody tr th {\n",
       "        vertical-align: top;\n",
       "    }\n",
       "\n",
       "    .dataframe thead th {\n",
       "        text-align: right;\n",
       "    }\n",
       "</style>\n",
       "<table border=\"1\" class=\"dataframe\">\n",
       "  <thead>\n",
       "    <tr style=\"text-align: right;\">\n",
       "      <th></th>\n",
       "      <th>Unnamed: 0</th>\n",
       "      <th>Mean_R</th>\n",
       "      <th>RMS_R</th>\n",
       "      <th>Median_R</th>\n",
       "      <th>Variance_R</th>\n",
       "      <th>Std_R</th>\n",
       "      <th>Skewness_R</th>\n",
       "      <th>Kurtosis_R</th>\n",
       "      <th>Contrast_R</th>\n",
       "      <th>Entropy_R</th>\n",
       "      <th>...</th>\n",
       "      <th>Std_B</th>\n",
       "      <th>Skewness_B</th>\n",
       "      <th>Kurtosis_B</th>\n",
       "      <th>Contrast_B</th>\n",
       "      <th>Entropy_B</th>\n",
       "      <th>Energy_B</th>\n",
       "      <th>Homogeneity_B</th>\n",
       "      <th>Correlation_B</th>\n",
       "      <th>IDM_B</th>\n",
       "      <th>Smoothness_B</th>\n",
       "    </tr>\n",
       "  </thead>\n",
       "  <tbody>\n",
       "    <tr>\n",
       "      <th>0</th>\n",
       "      <td>0</td>\n",
       "      <td>0.506447</td>\n",
       "      <td>0.538710</td>\n",
       "      <td>0.529412</td>\n",
       "      <td>0.033720</td>\n",
       "      <td>0.183630</td>\n",
       "      <td>-0.471316</td>\n",
       "      <td>0.045042</td>\n",
       "      <td>7.462803</td>\n",
       "      <td>840.679442</td>\n",
       "      <td>...</td>\n",
       "      <td>0.206684</td>\n",
       "      <td>-0.298699</td>\n",
       "      <td>-0.528658</td>\n",
       "      <td>7.575893</td>\n",
       "      <td>828.484390</td>\n",
       "      <td>0.011288</td>\n",
       "      <td>0.070849</td>\n",
       "      <td>0.850968</td>\n",
       "      <td>0.001206</td>\n",
       "      <td>0.012641</td>\n",
       "    </tr>\n",
       "    <tr>\n",
       "      <th>1</th>\n",
       "      <td>1</td>\n",
       "      <td>0.560126</td>\n",
       "      <td>0.577518</td>\n",
       "      <td>0.580392</td>\n",
       "      <td>0.019786</td>\n",
       "      <td>0.140663</td>\n",
       "      <td>-1.394636</td>\n",
       "      <td>3.094194</td>\n",
       "      <td>6.925821</td>\n",
       "      <td>844.840533</td>\n",
       "      <td>...</td>\n",
       "      <td>0.194109</td>\n",
       "      <td>-0.421625</td>\n",
       "      <td>-0.751318</td>\n",
       "      <td>7.454337</td>\n",
       "      <td>830.971385</td>\n",
       "      <td>0.011768</td>\n",
       "      <td>0.063501</td>\n",
       "      <td>0.830620</td>\n",
       "      <td>0.001202</td>\n",
       "      <td>0.012680</td>\n",
       "    </tr>\n",
       "    <tr>\n",
       "      <th>2</th>\n",
       "      <td>2</td>\n",
       "      <td>0.508093</td>\n",
       "      <td>0.535066</td>\n",
       "      <td>0.537255</td>\n",
       "      <td>0.028137</td>\n",
       "      <td>0.167742</td>\n",
       "      <td>-0.684491</td>\n",
       "      <td>0.282048</td>\n",
       "      <td>7.344415</td>\n",
       "      <td>1102.942923</td>\n",
       "      <td>...</td>\n",
       "      <td>0.202585</td>\n",
       "      <td>-0.647186</td>\n",
       "      <td>-0.260827</td>\n",
       "      <td>7.536181</td>\n",
       "      <td>1099.291835</td>\n",
       "      <td>0.009447</td>\n",
       "      <td>0.047230</td>\n",
       "      <td>0.794473</td>\n",
       "      <td>0.000909</td>\n",
       "      <td>0.016774</td>\n",
       "    </tr>\n",
       "    <tr>\n",
       "      <th>3</th>\n",
       "      <td>3</td>\n",
       "      <td>0.541484</td>\n",
       "      <td>0.566322</td>\n",
       "      <td>0.564706</td>\n",
       "      <td>0.027515</td>\n",
       "      <td>0.165877</td>\n",
       "      <td>-1.141966</td>\n",
       "      <td>1.258940</td>\n",
       "      <td>7.085799</td>\n",
       "      <td>572.447181</td>\n",
       "      <td>...</td>\n",
       "      <td>0.203459</td>\n",
       "      <td>0.214111</td>\n",
       "      <td>-1.166221</td>\n",
       "      <td>7.435953</td>\n",
       "      <td>565.787577</td>\n",
       "      <td>0.013982</td>\n",
       "      <td>0.104047</td>\n",
       "      <td>0.894747</td>\n",
       "      <td>0.001764</td>\n",
       "      <td>0.008633</td>\n",
       "    </tr>\n",
       "    <tr>\n",
       "      <th>4</th>\n",
       "      <td>4</td>\n",
       "      <td>0.592456</td>\n",
       "      <td>0.619403</td>\n",
       "      <td>0.627451</td>\n",
       "      <td>0.032655</td>\n",
       "      <td>0.180708</td>\n",
       "      <td>-1.024813</td>\n",
       "      <td>0.610256</td>\n",
       "      <td>7.303880</td>\n",
       "      <td>604.243244</td>\n",
       "      <td>...</td>\n",
       "      <td>0.242869</td>\n",
       "      <td>-0.386087</td>\n",
       "      <td>-0.992125</td>\n",
       "      <td>7.675357</td>\n",
       "      <td>604.860417</td>\n",
       "      <td>0.016680</td>\n",
       "      <td>0.148555</td>\n",
       "      <td>0.921239</td>\n",
       "      <td>0.001651</td>\n",
       "      <td>0.009229</td>\n",
       "    </tr>\n",
       "  </tbody>\n",
       "</table>\n",
       "<p>5 rows × 43 columns</p>\n",
       "</div>"
      ],
      "text/plain": [
       "   Unnamed: 0    Mean_R     RMS_R  Median_R  Variance_R     Std_R  Skewness_R  \\\n",
       "0           0  0.506447  0.538710  0.529412    0.033720  0.183630   -0.471316   \n",
       "1           1  0.560126  0.577518  0.580392    0.019786  0.140663   -1.394636   \n",
       "2           2  0.508093  0.535066  0.537255    0.028137  0.167742   -0.684491   \n",
       "3           3  0.541484  0.566322  0.564706    0.027515  0.165877   -1.141966   \n",
       "4           4  0.592456  0.619403  0.627451    0.032655  0.180708   -1.024813   \n",
       "\n",
       "   Kurtosis_R  Contrast_R    Entropy_R  ...     Std_B  Skewness_B  Kurtosis_B  \\\n",
       "0    0.045042    7.462803   840.679442  ...  0.206684   -0.298699   -0.528658   \n",
       "1    3.094194    6.925821   844.840533  ...  0.194109   -0.421625   -0.751318   \n",
       "2    0.282048    7.344415  1102.942923  ...  0.202585   -0.647186   -0.260827   \n",
       "3    1.258940    7.085799   572.447181  ...  0.203459    0.214111   -1.166221   \n",
       "4    0.610256    7.303880   604.243244  ...  0.242869   -0.386087   -0.992125   \n",
       "\n",
       "   Contrast_B    Entropy_B  Energy_B  Homogeneity_B  Correlation_B     IDM_B  \\\n",
       "0    7.575893   828.484390  0.011288       0.070849       0.850968  0.001206   \n",
       "1    7.454337   830.971385  0.011768       0.063501       0.830620  0.001202   \n",
       "2    7.536181  1099.291835  0.009447       0.047230       0.794473  0.000909   \n",
       "3    7.435953   565.787577  0.013982       0.104047       0.894747  0.001764   \n",
       "4    7.675357   604.860417  0.016680       0.148555       0.921239  0.001651   \n",
       "\n",
       "   Smoothness_B  \n",
       "0      0.012641  \n",
       "1      0.012680  \n",
       "2      0.016774  \n",
       "3      0.008633  \n",
       "4      0.009229  \n",
       "\n",
       "[5 rows x 43 columns]"
      ]
     },
     "execution_count": 92,
     "metadata": {},
     "output_type": "execute_result"
    }
   ],
   "source": [
    "#import required libraries\n",
    "import pandas as pd\n",
    "import numpy as np\n",
    "\n",
    "#read the dataset using pandas\n",
    "dataset = pd.read_csv('Output.csv')\n",
    "dataset2 = pd.read_csv('Labels.csv')\n",
    "\n",
    "dataset.head()"
   ]
  },
  {
   "cell_type": "code",
   "execution_count": 93,
   "id": "80444465",
   "metadata": {},
   "outputs": [
    {
     "data": {
      "text/html": [
       "<div>\n",
       "<style scoped>\n",
       "    .dataframe tbody tr th:only-of-type {\n",
       "        vertical-align: middle;\n",
       "    }\n",
       "\n",
       "    .dataframe tbody tr th {\n",
       "        vertical-align: top;\n",
       "    }\n",
       "\n",
       "    .dataframe thead th {\n",
       "        text-align: right;\n",
       "    }\n",
       "</style>\n",
       "<table border=\"1\" class=\"dataframe\">\n",
       "  <thead>\n",
       "    <tr style=\"text-align: right;\">\n",
       "      <th></th>\n",
       "      <th>Label</th>\n",
       "    </tr>\n",
       "  </thead>\n",
       "  <tbody>\n",
       "    <tr>\n",
       "      <th>0</th>\n",
       "      <td>1</td>\n",
       "    </tr>\n",
       "    <tr>\n",
       "      <th>1</th>\n",
       "      <td>1</td>\n",
       "    </tr>\n",
       "    <tr>\n",
       "      <th>2</th>\n",
       "      <td>1</td>\n",
       "    </tr>\n",
       "    <tr>\n",
       "      <th>3</th>\n",
       "      <td>1</td>\n",
       "    </tr>\n",
       "    <tr>\n",
       "      <th>4</th>\n",
       "      <td>1</td>\n",
       "    </tr>\n",
       "  </tbody>\n",
       "</table>\n",
       "</div>"
      ],
      "text/plain": [
       "   Label\n",
       "0      1\n",
       "1      1\n",
       "2      1\n",
       "3      1\n",
       "4      1"
      ]
     },
     "execution_count": 93,
     "metadata": {},
     "output_type": "execute_result"
    }
   ],
   "source": [
    "dataset2.head()"
   ]
  },
  {
   "cell_type": "code",
   "execution_count": 94,
   "id": "49b6494b",
   "metadata": {},
   "outputs": [],
   "source": [
    "#remove the first column from dataset1\n",
    "dataset1 = dataset.drop(['Unnamed: 0'], axis=1)"
   ]
  },
  {
   "cell_type": "code",
   "execution_count": 95,
   "id": "9c99580c",
   "metadata": {},
   "outputs": [
    {
     "name": "stdout",
     "output_type": "stream",
     "text": [
      "<class 'pandas.core.frame.DataFrame'>\n",
      "RangeIndex: 300 entries, 0 to 299\n",
      "Data columns (total 42 columns):\n",
      " #   Column         Non-Null Count  Dtype  \n",
      "---  ------         --------------  -----  \n",
      " 0   Mean_R         300 non-null    float64\n",
      " 1   RMS_R          300 non-null    float64\n",
      " 2   Median_R       300 non-null    float64\n",
      " 3   Variance_R     300 non-null    float64\n",
      " 4   Std_R          300 non-null    float64\n",
      " 5   Skewness_R     300 non-null    float64\n",
      " 6   Kurtosis_R     300 non-null    float64\n",
      " 7   Contrast_R     300 non-null    float64\n",
      " 8   Entropy_R      300 non-null    float64\n",
      " 9   Energy_R       300 non-null    float64\n",
      " 10  Homogeneity_R  300 non-null    float64\n",
      " 11  Correlation_R  300 non-null    float64\n",
      " 12  IDM_R          300 non-null    float64\n",
      " 13  Smoothness_R   300 non-null    float64\n",
      " 14  Mean_G         300 non-null    float64\n",
      " 15  RMS_G          300 non-null    float64\n",
      " 16  Median_G       300 non-null    float64\n",
      " 17  Variance_G     300 non-null    float64\n",
      " 18  Std_G          300 non-null    float64\n",
      " 19  Skewness_G     300 non-null    float64\n",
      " 20  Kurtosis_G     300 non-null    float64\n",
      " 21  Contrast_G     300 non-null    float64\n",
      " 22  Entropy_G      300 non-null    float64\n",
      " 23  Energy_G       300 non-null    float64\n",
      " 24  Homogeneity_G  300 non-null    float64\n",
      " 25  Correlation_G  300 non-null    float64\n",
      " 26  IDM_G          300 non-null    float64\n",
      " 27  Smoothness_G   300 non-null    float64\n",
      " 28  Mean_B         300 non-null    float64\n",
      " 29  RMS_B          300 non-null    float64\n",
      " 30  Median_B       300 non-null    float64\n",
      " 31  Variance_B     300 non-null    float64\n",
      " 32  Std_B          300 non-null    float64\n",
      " 33  Skewness_B     300 non-null    float64\n",
      " 34  Kurtosis_B     300 non-null    float64\n",
      " 35  Contrast_B     300 non-null    float64\n",
      " 36  Entropy_B      300 non-null    float64\n",
      " 37  Energy_B       300 non-null    float64\n",
      " 38  Homogeneity_B  300 non-null    float64\n",
      " 39  Correlation_B  300 non-null    float64\n",
      " 40  IDM_B          300 non-null    float64\n",
      " 41  Smoothness_B   300 non-null    float64\n",
      "dtypes: float64(42)\n",
      "memory usage: 98.6 KB\n"
     ]
    }
   ],
   "source": [
    "#now find info about dataset\n",
    "dataset1.info()"
   ]
  },
  {
   "cell_type": "code",
   "execution_count": 96,
   "id": "288b166b",
   "metadata": {},
   "outputs": [
    {
     "data": {
      "text/plain": [
       "1    270\n",
       "0     30\n",
       "Name: Label, dtype: int64"
      ]
     },
     "execution_count": 96,
     "metadata": {},
     "output_type": "execute_result"
    }
   ],
   "source": [
    "#find no of 0 and 1\n",
    "dataset2['Label'].value_counts()"
   ]
  },
  {
   "cell_type": "code",
   "execution_count": 97,
   "id": "3d50e2ee",
   "metadata": {},
   "outputs": [],
   "source": [
    "#distribute data into dependent and independent variables x and y\n",
    "x = dataset1.iloc[:, :]\n",
    "y = dataset2.iloc[:, :]\n"
   ]
  },
  {
   "cell_type": "code",
   "execution_count": 98,
   "id": "63aa9a78",
   "metadata": {},
   "outputs": [
    {
     "name": "stdout",
     "output_type": "stream",
     "text": [
      "Accuracy is  0.9230769230769231\n"
     ]
    },
    {
     "name": "stderr",
     "output_type": "stream",
     "text": [
      "/home/uca/.local/lib/python3.10/site-packages/sklearn/preprocessing/_label.py:99: DataConversionWarning: A column-vector y was passed when a 1d array was expected. Please change the shape of y to (n_samples, ), for example using ravel().\n",
      "  y = column_or_1d(y, warn=True)\n",
      "/home/uca/.local/lib/python3.10/site-packages/sklearn/preprocessing/_label.py:134: DataConversionWarning: A column-vector y was passed when a 1d array was expected. Please change the shape of y to (n_samples, ), for example using ravel().\n",
      "  y = column_or_1d(y, dtype=self.classes_.dtype, warn=True)\n"
     ]
    }
   ],
   "source": [
    "#split data into training and testing\n",
    "from sklearn.model_selection import train_test_split\n",
    "\n",
    "x_train, x_test, y_train, y_test = train_test_split(x, y, test_size=0.17, random_state=0)\n",
    "\n",
    "#lets now apply lightGBM\n",
    "import lightgbm as lgb\n",
    "lgb_classifier = lgb.LGBMClassifier()\n",
    "lgb_classifier.fit(x_train, y_train)\n",
    "\n",
    "#predict using model\n",
    "pred = lgb_classifier.predict(x_test)\n",
    "\n",
    "#now find accuracy\n",
    "from sklearn.metrics import accuracy_score\n",
    "print(\"Accuracy is \", accuracy_score(y_test, pred))"
   ]
  },
  {
   "cell_type": "code",
   "execution_count": 99,
   "id": "e3a972bc",
   "metadata": {},
   "outputs": [
    {
     "name": "stdout",
     "output_type": "stream",
     "text": [
      "The accuracy for train data is  1.0\n"
     ]
    }
   ],
   "source": [
    "#now test the accuracy x_train data\n",
    "\n",
    "x_train_pred = lgb_classifier.predict(x_train)\n",
    "\n",
    "print(\"The accuracy for train data is \", accuracy_score(y_train, x_train_pred))"
   ]
  },
  {
   "cell_type": "code",
   "execution_count": 100,
   "id": "f893c4b8",
   "metadata": {},
   "outputs": [
    {
     "name": "stdout",
     "output_type": "stream",
     "text": [
      "[[ 0  3]\n",
      " [ 1 48]]\n"
     ]
    },
    {
     "data": {
      "text/plain": [
       "<Axes: >"
      ]
     },
     "execution_count": 100,
     "metadata": {},
     "output_type": "execute_result"
    },
    {
     "data": {
      "image/png": "[encoded data removed]",
      "text/plain": [
       "<Figure size 640x480 with 2 Axes>"
      ]
     },
     "metadata": {},
     "output_type": "display_data"
    }
   ],
   "source": [
    "#confusion matrix\n",
    "from sklearn.metrics import confusion_matrix\n",
    "cm_matrix = confusion_matrix(y_test, pred)\n",
    "print(cm_matrix)\n",
    "\n",
    "#create a heatmap to analyze the results\n",
    "import seaborn as sns\n",
    "sns.heatmap(cm_matrix, annot=True)"
   ]
  },
  {
   "cell_type": "code",
   "execution_count": 102,
   "id": "a8c80f2f",
   "metadata": {},
   "outputs": [
    {
     "data": {
      "text/plain": [
       "<Axes: >"
      ]
     },
     "execution_count": 102,
     "metadata": {},
     "output_type": "execute_result"
    },
    {
     "data": {
      "image/png": "[encoded data removed]",
      "text/plain": [
       "<Figure size 640x480 with 2 Axes>"
      ]
     },
     "metadata": {},
     "output_type": "display_data"
    }
   ],
   "source": [
    "sns.heatmap(cm_matrix/np.sum(cm_matrix), annot=True, \n",
    "            fmt='.2%', cmap='Blues')"
   ]
  },
  {
   "cell_type": "code",
   "execution_count": null,
   "id": "7a122df6",
   "metadata": {},
   "outputs": [],
   "source": []
  }
 ],
 "metadata": {
  "kernelspec": {
   "display_name": "Python 3 (ipykernel)",
   "language": "python",
   "name": "python3"
  },
  "language_info": {
   "codemirror_mode": {
    "name": "ipython",
    "version": 3
   },
   "file_extension": ".py",
   "mimetype": "text/x-python",
   "name": "python",
   "nbconvert_exporter": "python",
   "pygments_lexer": "ipython3",
   "version": "3.10.6"
  }
 },
 "nbformat": 4,
 "nbformat_minor": 5
}
