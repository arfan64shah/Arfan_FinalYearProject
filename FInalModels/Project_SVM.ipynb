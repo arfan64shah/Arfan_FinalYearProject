{
 "cells": [
  {
   "cell_type": "code",
   "execution_count": 63,
   "id": "208c538c",
   "metadata": {},
   "outputs": [
    {
     "name": "stdout",
     "output_type": "stream",
     "text": [
      "The accuracy is  0.5817490494296578\n",
      "[[  0 110]\n",
      " [  0 153]]\n",
      "              precision    recall  f1-score   support\n",
      "\n",
      "           0       0.00      0.00      0.00       110\n",
      "           1       0.58      1.00      0.74       153\n",
      "\n",
      "    accuracy                           0.58       263\n",
      "   macro avg       0.29      0.50      0.37       263\n",
      "weighted avg       0.34      0.58      0.43       263\n",
      "\n"
     ]
    },
    {
     "name": "stderr",
     "output_type": "stream",
     "text": [
      "/home/uca/.local/lib/python3.10/site-packages/sklearn/metrics/_classification.py:1344: UndefinedMetricWarning: Precision and F-score are ill-defined and being set to 0.0 in labels with no predicted samples. Use `zero_division` parameter to control this behavior.\n",
      "  _warn_prf(average, modifier, msg_start, len(result))\n",
      "/home/uca/.local/lib/python3.10/site-packages/sklearn/metrics/_classification.py:1344: UndefinedMetricWarning: Precision and F-score are ill-defined and being set to 0.0 in labels with no predicted samples. Use `zero_division` parameter to control this behavior.\n",
      "  _warn_prf(average, modifier, msg_start, len(result))\n",
      "/home/uca/.local/lib/python3.10/site-packages/sklearn/metrics/_classification.py:1344: UndefinedMetricWarning: Precision and F-score are ill-defined and being set to 0.0 in labels with no predicted samples. Use `zero_division` parameter to control this behavior.\n",
      "  _warn_prf(average, modifier, msg_start, len(result))\n"
     ]
    }
   ],
   "source": [
    "import pandas as pd\n",
    "#read the data\n",
    "dataset = pd.read_csv('Final.csv')\n",
    "\n",
    "\n",
    "#classify data into dependent and indepedent variables\n",
    "x = dataset.iloc[:, : -1]\n",
    "y = dataset.iloc[:, -1]\n",
    "\n",
    "#classify the data into training and testing\n",
    "from sklearn.model_selection import train_test_split\n",
    "x_train, x_test, y_train, y_test = train_test_split(x, y, test_size = 0.25, random_state = 0)\n",
    "\n",
    "#scale the data to get good results\n",
    "from sklearn.preprocessing import Normalizer\n",
    "\n",
    "sc = Normalizer()\n",
    "x_train = sc.fit_transform(x_train)\n",
    "x_test = sc.transform(x_test)\n",
    "\n",
    "#now predict using svm classifier\n",
    "from sklearn.svm import SVC\n",
    "SVC_classifier = SVC()\n",
    "\n",
    "#fit the model\n",
    "SVC_classifier.fit(x_train, y_train)\n",
    "pred = SVC_classifier.predict(x_test)\n",
    "\n",
    "#lets now find the accuracy\n",
    "from sklearn.metrics import accuracy_score\n",
    "print(\"The accuracy is \", accuracy_score(y_test, pred))\n",
    "\n",
    "#confusion matrix\n",
    "from sklearn.metrics import confusion_matrix\n",
    "print(confusion_matrix(y_test, pred))\n",
    "\n",
    "\n",
    "#classification report\n",
    "from sklearn.metrics import classification_report\n",
    "print(classification_report(y_test, pred))"
   ]
  },
  {
   "cell_type": "code",
   "execution_count": null,
   "id": "076ad770",
   "metadata": {},
   "outputs": [],
   "source": []
  }
 ],
 "metadata": {
  "kernelspec": {
   "display_name": "Python 3 (ipykernel)",
   "language": "python",
   "name": "python3"
  },
  "language_info": {
   "codemirror_mode": {
    "name": "ipython",
    "version": 3
   },
   "file_extension": ".py",
   "mimetype": "text/x-python",
   "name": "python",
   "nbconvert_exporter": "python",
   "pygments_lexer": "ipython3",
   "version": "3.10.6"
  }
 },
 "nbformat": 4,
 "nbformat_minor": 5
}
