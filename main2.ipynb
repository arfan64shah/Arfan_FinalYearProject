{
 "cells": [
  {
   "cell_type": "code",
   "execution_count": 1,
   "id": "fb15eb96",
   "metadata": {},
   "outputs": [],
   "source": [
    "import openpyxl\n",
    "import numpy as np\n",
    "import math\n",
    "from PIL import Image\n",
    "from numpy import asarray\n",
    "from scipy.stats import skew, kurtosis\n",
    "import skimage.feature\n",
    "import xlsxwriter\n",
    "\n",
    "\n",
    "# Create Red File\n",
    "outWorkbookR = xlsxwriter.Workbook(\"RedChannel.xlsx\")\n",
    "outSheetR = outWorkbookR.add_worksheet()\n",
    "\n",
    "# Write Headers\n",
    "outSheetR.write(\"A1\", \"MeanR\")\n",
    "outSheetR.write(\"B1\", \"VarianceR\")\n",
    "outSheetR.write(\"C1\", \"SkewnessR\")\n",
    "outSheetR.write(\"D1\", \"KurtosisR\")\n",
    "outSheetR.write(\"E1\", \"ContrastR\")\n",
    "outSheetR.write(\"F1\", \"EntropyR\")\n",
    "outSheetR.write(\"G1\", \"EnergyR\")\n",
    "outSheetR.write(\"H1\", \"HomoR\")\n",
    "outSheetR.write(\"I1\", \"CorreR\")\n",
    "outWorkbookR.close()"
   ]
  },
  {
   "cell_type": "code",
   "execution_count": 3,
   "id": "63500d77",
   "metadata": {},
   "outputs": [],
   "source": [
    "# Create Green File\n",
    "outWorkbookG = xlsxwriter.Workbook(\"GreenChannel.xlsx\")\n",
    "outSheetG = outWorkbookG.add_worksheet()\n",
    "\n",
    "# Write Headers for Green File\n",
    "outSheetG.write(\"A1\", \"MeanG\")\n",
    "outSheetG.write(\"B1\", \"VarianceG\")\n",
    "outSheetG.write(\"C1\", \"SkewnessG\")\n",
    "outSheetG.write(\"D1\", \"KurtosisG\")\n",
    "outSheetG.write(\"E1\", \"ContrastG\")\n",
    "outSheetG.write(\"F1\", \"EntropyG\")\n",
    "outSheetG.write(\"G1\", \"EnergyG\")\n",
    "outSheetG.write(\"H1\", \"HomoG\")\n",
    "outSheetG.write(\"I1\", \"CorreG\")\n",
    "outWorkbookG.close()"
   ]
  },
  {
   "cell_type": "code",
   "execution_count": 4,
   "id": "d22b7d78",
   "metadata": {},
   "outputs": [],
   "source": [
    "# Create Blue File\n",
    "outWorkbookB = xlsxwriter.Workbook(\"BlueChannel.xlsx\")\n",
    "outSheetB = outWorkbookB.add_worksheet()\n",
    "\n",
    "# Write Headers for Blue file\n",
    "outSheetB.write(\"A1\", \"MeanB\")\n",
    "outSheetB.write(\"B1\", \"VarianceB\")\n",
    "outSheetB.write(\"C1\", \"SkewnessB\")\n",
    "outSheetB.write(\"D1\", \"KurtosisB\")\n",
    "outSheetB.write(\"E1\", \"ContrastB\")\n",
    "outSheetB.write(\"F1\", \"EntropyB\")\n",
    "outSheetB.write(\"G1\", \"EnergyB\")\n",
    "outSheetB.write(\"H1\", \"HomoB\")\n",
    "outSheetB.write(\"I1\", \"CorreB\")\n",
    "outWorkbookB.close()"
   ]
  },
  {
   "cell_type": "code",
   "execution_count": 5,
   "id": "e7413a4f",
   "metadata": {},
   "outputs": [
    {
     "name": "stdout",
     "output_type": "stream",
     "text": [
      "0\n"
     ]
    }
   ],
   "source": [
    "import glob\n",
    "\n",
    "Image_list = []\n",
    "for filename in glob.glob('C:/Users/arfan.shah/Desktop/UCA_Undergrad/Arfan_FinalYearProject/data1/*.*'):\n",
    "    im = Image.open(filename)\n",
    "    Image_list.append(im)\n",
    "\n",
    "print(len(Image_list))"
   ]
  },
  {
   "cell_type": "code",
   "execution_count": null,
   "id": "49efd780",
   "metadata": {},
   "outputs": [],
   "source": []
  }
 ],
 "metadata": {
  "kernelspec": {
   "display_name": "Python 3 (ipykernel)",
   "language": "python",
   "name": "python3"
  },
  "language_info": {
   "codemirror_mode": {
    "name": "ipython",
    "version": 3
   },
   "file_extension": ".py",
   "mimetype": "text/x-python",
   "name": "python",
   "nbconvert_exporter": "python",
   "pygments_lexer": "ipython3",
   "version": "3.10.6"
  }
 },
 "nbformat": 4,
 "nbformat_minor": 5
}
