{
 "cells": [
  {
   "cell_type": "code",
   "execution_count": 3,
   "id": "99228442",
   "metadata": {},
   "outputs": [
    {
     "name": "stdout",
     "output_type": "stream",
     "text": [
      "Found 1092 images belonging to 2 classes.\n",
      "Found 207 images belonging to 2 classes.\n",
      "Epoch 1/2\n"
     ]
    },
    {
     "name": "stderr",
     "output_type": "stream",
     "text": [
      "/tmp/ipykernel_21745/3700745983.py:69: UserWarning: `Model.fit_generator` is deprecated and will be removed in a future version. Please use `Model.fit`, which supports generators.\n",
      "  CNN_Classifier.fit_generator(training_set,\n",
      "2023-04-08 15:11:35.690825: I tensorflow/core/common_runtime/executor.cc:1197] [/device:CPU:0] (DEBUG INFO) Executor start aborting (this does not indicate an error and you can ignore this message): INVALID_ARGUMENT: You must feed a value for placeholder tensor 'Placeholder/_0' with dtype int32\n",
      "\t [[{{node Placeholder/_0}}]]\n"
     ]
    },
    {
     "name": "stdout",
     "output_type": "stream",
     "text": [
      "35/70 [==============>...............] - ETA: 3s - loss: 0.2193 - accuracy: 0.9808WARNING:tensorflow:Your input ran out of data; interrupting training. Make sure that your dataset or generator can generate at least `steps_per_epoch * epochs` batches (in this case, 140 batches). You may need to use the repeat() function when building your dataset.\n"
     ]
    },
    {
     "name": "stderr",
     "output_type": "stream",
     "text": [
      "2023-04-08 15:11:39.655990: I tensorflow/core/common_runtime/executor.cc:1197] [/device:CPU:0] (DEBUG INFO) Executor start aborting (this does not indicate an error and you can ignore this message): INVALID_ARGUMENT: You must feed a value for placeholder tensor 'Placeholder/_0' with dtype int32\n",
      "\t [[{{node Placeholder/_0}}]]\n"
     ]
    },
    {
     "name": "stdout",
     "output_type": "stream",
     "text": [
      "WARNING:tensorflow:Your input ran out of data; interrupting training. Make sure that your dataset or generator can generate at least `steps_per_epoch * epochs` batches (in this case, 50 batches). You may need to use the repeat() function when building your dataset.\n",
      "70/70 [==============================] - 4s 53ms/step - loss: 0.2193 - accuracy: 0.9808 - val_loss: 4.3279 - val_accuracy: 0.0000e+00\n",
      "1/1 [==============================] - 0s 59ms/step\n",
      "cat\n"
     ]
    }
   ],
   "source": [
    "import numpy as np;\n",
    "\n",
    "# Importing the Keras libraries and packages\n",
    "\n",
    "from tensorflow.keras.models import Sequential\n",
    "from tensorflow.keras.layers import Conv2D\n",
    "from tensorflow.keras.layers import MaxPooling2D\n",
    "from tensorflow.keras.layers import Flatten\n",
    "from tensorflow.keras.layers import Dense\n",
    "from PIL import Image\n",
    "\n",
    "# Initialising the CNN\n",
    "\n",
    "\n",
    "CNN_Classifier=Sequential();\n",
    "\n",
    "# Step 1 - Convolution\n",
    "CNN_Classifier.add(Conv2D(32,(3,3),input_shape=(64,64,3), activation='relu'))\n",
    "\n",
    "# Step 2 - Pooling\n",
    "CNN_Classifier.add(MaxPooling2D(pool_size=(2,2)))\n",
    "\n",
    "# # Step 1 - Convolution\n",
    "# CNN_Classifier.add(Conv2D(16,(3,3),activation='relu'))\n",
    "\n",
    "# # Step 2 - Pooling\n",
    "# CNN_Classifier.add(MaxPooling2D(pool_size=(2,2)))\n",
    "\n",
    "\n",
    "# Step 3 - Flattening\n",
    "CNN_Classifier.add(Flatten())\n",
    "\n",
    "\n",
    "# Step 4 - Full connection\n",
    "\n",
    "CNN_Classifier.add(Dense(128, activation='relu'))\n",
    "\n",
    "# # Adding the Second the Hidden Layer\n",
    "# CNN_Classifier.add(Dense(units=40, activation='sigmoid'))\n",
    "\n",
    "# # Adding the Third  Hidden Layer\n",
    "# CNN_Classifier.add(Dense(units=20, activation='relu'))\n",
    "\n",
    "# Adding the Output Layer\n",
    "CNN_Classifier.add(Dense(1, activation='sigmoid'))\n",
    "\n",
    "# Compiling the CNN\n",
    "CNN_Classifier.compile(optimizer ='adam',loss='binary_crossentropy',metrics=['accuracy'])\n",
    "\n",
    "from tensorflow.keras.preprocessing.image import ImageDataGenerator\n",
    "\n",
    "train_datagen = ImageDataGenerator(rescale = 1./255,\n",
    "                                   shear_range = 0.2,\n",
    "                                   zoom_range = 0.2,\n",
    "                                   horizontal_flip = True)\n",
    "\n",
    "test_datagen = ImageDataGenerator(rescale = 1./255)\n",
    "\n",
    "training_set = train_datagen.flow_from_directory('dataset/training_set',\n",
    "                                                 target_size = (64, 64),\n",
    "                                                 batch_size = 32,\n",
    "                                                 class_mode = 'binary')\n",
    "\n",
    "test_set = test_datagen.flow_from_directory('dataset/test_set',\n",
    "                                            target_size = (64, 64),\n",
    "                                            batch_size = 32,\n",
    "                                            class_mode = 'binary')\n",
    "\n",
    "CNN_Classifier.fit_generator(training_set,\n",
    "                         steps_per_epoch = 70,\n",
    "                         epochs = 2,\n",
    "                         validation_data = test_set,\n",
    "                         validation_steps = 50)\n",
    "\n",
    "# Prediction for dog image using train model\n",
    "\n",
    "# from tensorflow.keras.preprocessing import image\n",
    "# test_image = image.load_img ('dataset/single_prediction/cat_or_dog_1.jpg', target_size= (64, 64))\n",
    "# test_image.show()\n",
    "# test_image = image.img_to_array (test_image)\n",
    "# test_image = np.expand_dims(test_image, axis = 0)\n",
    "# results = CNN_Classifier.predict(test_image)\n",
    "# training_set.class_indices\n",
    "# if results[0][0] == 1:\n",
    "#     prediction = 'dog'\n",
    "#     print(prediction)\n",
    "# else:\n",
    "#     prediction = 'cat'\n",
    "#     print(prediction)\n",
    "\n",
    "# Prediction for cat image using train model\n",
    "\n",
    "# Prediction for dog image using train model\n",
    "\n",
    "from tensorflow.keras.preprocessing import image\n",
    "test_image = image.load_img ('dataset/single_prediction/cat_or_dog_1.jpg', target_size= (64, 64))\n",
    "test_image.show()\n",
    "test_image = image.img_to_array (test_image)\n",
    "test_image = np.expand_dims(test_image, axis = 0)\n",
    "results = CNN_Classifier.predict(test_image)\n",
    "training_set.class_indices\n",
    "if results[0][0] == 1:\n",
    "    prediction = 'dog'\n",
    "    print(prediction)\n",
    "else:\n",
    "    prediction = 'cat'\n",
    "    print(prediction)\n",
    "    \n"
   ]
  },
  {
   "cell_type": "code",
   "execution_count": null,
   "id": "fdb3ec5b",
   "metadata": {},
   "outputs": [],
   "source": []
  }
 ],
 "metadata": {
  "kernelspec": {
   "display_name": "Python 3 (ipykernel)",
   "language": "python",
   "name": "python3"
  },
  "language_info": {
   "codemirror_mode": {
    "name": "ipython",
    "version": 3
   },
   "file_extension": ".py",
   "mimetype": "text/x-python",
   "name": "python",
   "nbconvert_exporter": "python",
   "pygments_lexer": "ipython3",
   "version": "3.10.6"
  }
 },
 "nbformat": 4,
 "nbformat_minor": 5
}
