{
 "cells": [
  {
   "cell_type": "code",
   "execution_count": 10,
   "id": "9d1451f2",
   "metadata": {
    "scrolled": true
   },
   "outputs": [
    {
     "name": "stdout",
     "output_type": "stream",
     "text": [
      "Accuracy: 91.67%\n",
      "2/2 [==============================] - 0s 2ms/step\n",
      "The accuracy is  0.9166666666666666\n"
     ]
    }
   ],
   "source": [
    "# import necessary libraries\n",
    "import numpy as np\n",
    "from sklearn.model_selection import train_test_split\n",
    "from keras.models import Sequential\n",
    "import pandas as pd\n",
    "from keras.layers import Dense\n",
    "\n",
    "#read the data\n",
    "dataset = pd.read_csv('Output30.csv')\n",
    "dataset2 = pd.read_csv('Labels30.csv')\n",
    "\n",
    "\n",
    "\n",
    "dataset1 = dataset.drop(['Unnamed: 0'], axis=1)\n",
    "\n",
    "#now clssify data into dependent and independent data\n",
    "x = dataset1.iloc[:, :]\n",
    "y = dataset2.iloc[:, :]\n",
    "\n",
    "#classify data into training and testing\n",
    "x_train, x_test, y_train, y_test = train_test_split(x, y, test_size = 0.2, random_state = 0)\n",
    "\n",
    "# create the ANN model\n",
    "model = Sequential()\n",
    "model.add(Dense(4, input_dim=42, activation='relu'))\n",
    "model.add(Dense(1, activation='sigmoid'))\n",
    "model.compile(loss='binary_crossentropy', optimizer='adam', metrics=['accuracy'])\n",
    "\n",
    "# train the model\n",
    "model.fit(x_train, y_train, epochs=1000, verbose=0)\n",
    "\n",
    "#model evaluation\n",
    "loss, accuracy = model.evaluate(x_test, y_test, verbose=0)\n",
    "print(\"Accuracy: {:.2f}%\".format(accuracy * 100))\n",
    "\n",
    "#predict results\n",
    "pred = model.predict(x_test)\n",
    "\n",
    "\n",
    "#now find accuracy\n",
    "from sklearn.metrics import accuracy_score\n",
    "print(\"The accuracy is \", accuracy_score(np.round(pred), y_test))\n"
   ]
  },
  {
   "cell_type": "code",
   "execution_count": null,
   "id": "a8c05316",
   "metadata": {},
   "outputs": [],
   "source": []
  }
 ],
 "metadata": {
  "kernelspec": {
   "display_name": "Python 3 (ipykernel)",
   "language": "python",
   "name": "python3"
  },
  "language_info": {
   "codemirror_mode": {
    "name": "ipython",
    "version": 3
   },
   "file_extension": ".py",
   "mimetype": "text/x-python",
   "name": "python",
   "nbconvert_exporter": "python",
   "pygments_lexer": "ipython3",
   "version": "3.10.6"
  }
 },
 "nbformat": 4,
 "nbformat_minor": 5
}
