{
 "cells": [
  {
   "cell_type": "code",
   "execution_count": 25,
   "id": "761683a8",
   "metadata": {},
   "outputs": [
    {
     "name": "stdout",
     "output_type": "stream",
     "text": [
      "The accuracy for main data is  0.9230769230769231\n",
      "[[ 0  3]\n",
      " [ 1 48]]\n",
      "              precision    recall  f1-score   support\n",
      "\n",
      "           0       0.00      0.00      0.00         3\n",
      "           1       0.94      0.98      0.96        49\n",
      "\n",
      "    accuracy                           0.92        52\n",
      "   macro avg       0.47      0.49      0.48        52\n",
      "weighted avg       0.89      0.92      0.90        52\n",
      "\n"
     ]
    },
    {
     "name": "stderr",
     "output_type": "stream",
     "text": [
      "/tmp/ipykernel_15356/2660613006.py:19: DataConversionWarning: A column-vector y was passed when a 1d array was expected. Please change the shape of y to (n_samples,), for example using ravel().\n",
      "  RF_classifier.fit(x_train, y_train)\n"
     ]
    }
   ],
   "source": [
    "import pandas as pd\n",
    "#read the data\n",
    "Data = pd.read_csv('Output.csv')\n",
    "labelled = pd.read_csv('Labels.csv')\n",
    "\n",
    "#classify data into dependent and indepedent variables\n",
    "x = Data.iloc[:, :]\n",
    "y = labelled.iloc[:, :]\n",
    "\n",
    "#classify the data into training and testing\n",
    "from sklearn.model_selection import train_test_split\n",
    "x_train, x_test, y_train, y_test = train_test_split(x, y, test_size = 0.17, random_state = 0)\n",
    "\n",
    "#now predict using svm classifier\n",
    "from sklearn.ensemble import RandomForestClassifier\n",
    "RF_classifier = RandomForestClassifier()\n",
    "\n",
    "#fit the model\n",
    "RF_classifier.fit(x_train, y_train)\n",
    "pred = RF_classifier.predict(x_test)\n",
    "\n",
    "#lets now find the accuracy\n",
    "from sklearn.metrics import accuracy_score\n",
    "print(\"The accuracy for main data is \", accuracy_score(y_test, pred))\n",
    "\n",
    "#confusion matrix\n",
    "from sklearn.metrics import confusion_matrix\n",
    "print(confusion_matrix(y_test, pred))\n",
    "\n",
    "#classification report\n",
    "from sklearn.metrics import classification_report\n",
    "print(classification_report(y_test, pred))"
   ]
  },
  {
   "cell_type": "code",
   "execution_count": null,
   "id": "b1deb98a",
   "metadata": {},
   "outputs": [],
   "source": []
  }
 ],
 "metadata": {
  "kernelspec": {
   "display_name": "Python 3 (ipykernel)",
   "language": "python",
   "name": "python3"
  },
  "language_info": {
   "codemirror_mode": {
    "name": "ipython",
    "version": 3
   },
   "file_extension": ".py",
   "mimetype": "text/x-python",
   "name": "python",
   "nbconvert_exporter": "python",
   "pygments_lexer": "ipython3",
   "version": "3.10.6"
  }
 },
 "nbformat": 4,
 "nbformat_minor": 5
}
