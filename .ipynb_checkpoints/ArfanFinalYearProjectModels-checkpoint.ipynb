{
 "cells": [
  {
   "cell_type": "code",
   "execution_count": 4,
   "id": "34d94bc2",
   "metadata": {},
   "outputs": [
    {
     "name": "stdout",
     "output_type": "stream",
     "text": [
      "The accuracy is  0.24153188892279523\n"
     ]
    }
   ],
   "source": [
    "#import required libraries\n",
    "import numpy as np\n",
    "import pandas as pd\n",
    "import sklearn\n",
    "\n",
    "df = pd.read_csv('dataset1.csv')\n",
    "\n",
    "#categorizing dataset into dependent and independent variables\n",
    "x = df.iloc[:, :-1]\n",
    "y = df.iloc[:,-1]\n",
    "\n",
    "#split dataset into training and testing\n",
    "from sklearn.model_selection import train_test_split\n",
    "x_train, x_test, y_train, y_test = train_test_split(x, y, test_size = 0.2, random_state = 20)\n",
    "\n",
    "\n",
    "#import the classifier and predict\n",
    "from sklearn.ensemble import RandomForestClassifier\n",
    "\n",
    "R_classifier = RandomForestClassifier(n_estimators=10, random_state=42)\n",
    "\n",
    "R_classifier.fit(x_train, y_train)\n",
    "\n",
    "y_pred = R_classifier.predict(x_test)\n",
    "\n",
    "\n",
    "\n",
    "\n",
    "from sklearn.metrics import accuracy_score\n",
    "accuracy = accuracy_score(y_pred, y_test)\n",
    "print(\"The accuracy is \", accuracy)"
   ]
  },
  {
   "cell_type": "markdown",
   "id": "2d71f698",
   "metadata": {},
   "source": [
    "### K-Neerest Neighbor"
   ]
  },
  {
   "cell_type": "code",
   "execution_count": 5,
   "id": "7b4e858e",
   "metadata": {},
   "outputs": [
    {
     "name": "stdout",
     "output_type": "stream",
     "text": [
      "The accuracy is  0.2883735123588648\n"
     ]
    }
   ],
   "source": [
    "#apply KNN\n",
    "from sklearn.neighbors import KNeighborsClassifier\n",
    "\n",
    "neigh = KNeighborsClassifier(n_neighbors=3)\n",
    "\n",
    "neigh.fit(x_train, y_train)\n",
    "\n",
    "y_predict = neigh.predict(x_test)\n",
    "\n",
    "from sklearn.metrics import accuracy_score\n",
    "acc = accuracy_score(y_predict, y_test)\n",
    "\n",
    "\n",
    "print(\"The accuracy is \", acc)"
   ]
  },
  {
   "cell_type": "code",
   "execution_count": null,
   "id": "bde07986",
   "metadata": {},
   "outputs": [],
   "source": []
  }
 ],
 "metadata": {
  "kernelspec": {
   "display_name": "Python 3 (ipykernel)",
   "language": "python",
   "name": "python3"
  },
  "language_info": {
   "codemirror_mode": {
    "name": "ipython",
    "version": 3
   },
   "file_extension": ".py",
   "mimetype": "text/x-python",
   "name": "python",
   "nbconvert_exporter": "python",
   "pygments_lexer": "ipython3",
   "version": "3.10.7"
  }
 },
 "nbformat": 4,
 "nbformat_minor": 5
}
