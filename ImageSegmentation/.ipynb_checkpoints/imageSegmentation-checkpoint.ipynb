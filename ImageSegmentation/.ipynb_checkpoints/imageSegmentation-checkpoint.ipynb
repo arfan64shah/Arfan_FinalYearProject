{
 "cells": [
  {
   "cell_type": "code",
   "execution_count": 2,
   "id": "535b064c",
   "metadata": {},
   "outputs": [
    {
     "data": {
      "text/plain": [
       "array([[[129, 123, 127],\n",
       "        [169, 163, 167],\n",
       "        [111, 105, 109],\n",
       "        ...,\n",
       "        [139, 134, 140],\n",
       "        [159, 154, 160],\n",
       "        [159, 154, 160]],\n",
       "\n",
       "       [[140, 134, 138],\n",
       "        [137, 131, 135],\n",
       "        [129, 123, 127],\n",
       "        ...,\n",
       "        [148, 143, 149],\n",
       "        [135, 130, 136],\n",
       "        [140, 135, 141]],\n",
       "\n",
       "       [[120, 114, 118],\n",
       "        [142, 136, 140],\n",
       "        [161, 155, 159],\n",
       "        ...,\n",
       "        [171, 166, 172],\n",
       "        [154, 149, 155],\n",
       "        [152, 147, 153]],\n",
       "\n",
       "       ...,\n",
       "\n",
       "       [[ 63,  62,  67],\n",
       "        [ 77,  76,  81],\n",
       "        [ 71,  70,  75],\n",
       "        ...,\n",
       "        [ 59,  60,  64],\n",
       "        [ 50,  51,  55],\n",
       "        [ 69,  70,  74]],\n",
       "\n",
       "       [[ 61,  60,  65],\n",
       "        [ 69,  68,  73],\n",
       "        [ 59,  58,  63],\n",
       "        ...,\n",
       "        [ 89,  90,  94],\n",
       "        [ 81,  82,  86],\n",
       "        [ 65,  66,  70]],\n",
       "\n",
       "       [[ 68,  67,  72],\n",
       "        [108, 107, 112],\n",
       "        [ 60,  59,  64],\n",
       "        ...,\n",
       "        [ 69,  70,  74],\n",
       "        [ 76,  77,  81],\n",
       "        [ 49,  50,  54]]], dtype=uint8)"
      ]
     },
     "execution_count": 2,
     "metadata": {},
     "output_type": "execute_result"
    }
   ],
   "source": [
    "#import necessary library\n",
    "from skimage import io\n",
    "\n",
    "#read image\n",
    "myimage = io.imread(\"img_healthy1.JPG\")\n",
    "myimage"
   ]
  },
  {
   "cell_type": "code",
   "execution_count": null,
   "id": "c5410aea",
   "metadata": {},
   "outputs": [],
   "source": []
  }
 ],
 "metadata": {
  "kernelspec": {
   "display_name": "Python 3 (ipykernel)",
   "language": "python",
   "name": "python3"
  },
  "language_info": {
   "codemirror_mode": {
    "name": "ipython",
    "version": 3
   },
   "file_extension": ".py",
   "mimetype": "text/x-python",
   "name": "python",
   "nbconvert_exporter": "python",
   "pygments_lexer": "ipython3",
   "version": "3.10.7"
  }
 },
 "nbformat": 4,
 "nbformat_minor": 5
}
